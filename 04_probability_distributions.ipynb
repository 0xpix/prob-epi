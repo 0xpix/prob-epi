{
  "cells": [
    {
      "cell_type": "markdown",
      "metadata": {},
      "source": [
        "# Probability Dsitributions and Random Variables"
      ]
    },
    {
      "cell_type": "markdown",
      "metadata": {},
      "source": [
        "To embark on an exciting journey into the realm of probabilistic thinking and programming, it's essential to establish a solid foundation. This foundation entails gaining a comprehensive understanding of probability distributions, mastering fundamental probability principles, and acquiring the skills to manipulate probabilities within code.\n",
        "\n",
        "Probability distributions and random variables serve as tools for describing and performing calculations related to random events, specifically those whose outcomes are uncertain. An illustrative instance of such an uncertain event would be the act of flipping a coin or rolling a dice. In the former case, the potential outcomes are heads or tails.\n",
        "\n",
        "*In the context of epidemiological modelling, we will encounter data of different type and origin. It is crucial to grasp the suitability of different probability distributions for modeling specific types of data.*\n",
        "\n",
        "Since the PPL we will be using for this course is **Numpyro**, also in this section we will use the implementations of distribution from this library `import numpyro.distributions as dist`"
      ]
    },
    {
      "cell_type": "code",
      "execution_count": null,
      "metadata": {},
      "outputs": [],
      "source": [
        "# uncomment this line on Colab\n",
        "# !pip install numpyro"
      ]
    },
    {
      "cell_type": "code",
      "execution_count": 29,
      "metadata": {},
      "outputs": [],
      "source": [
        "import jax\n",
        "import jax.numpy as jnp\n",
        "\n",
        "# dsitributions\n",
        "import numpyro.distributions as dist\n",
        "\n",
        "import matplotlib.pyplot as plt\n",
        "\n",
        "# Since we are using jax, we will need a random key:\n",
        "rng = jax.random.PRNGKey(42)"
      ]
    },
    {
      "cell_type": "markdown",
      "metadata": {},
      "source": [
        "## Discrete Distributions"
      ]
    },
    {
      "cell_type": "markdown",
      "metadata": {},
      "source": [
        "### The Bernoulli distribution\n",
        "\n",
        "A Bernoulli distribution is used to describe random events with two possible outcomes e.g. when we have a random variable $X$ that takes on one of the two values $x \\in \\{0, 1\\}$ with probabilities $1-p$ and $p, 0 \\le p \\le 1$ respectively:\n",
        "\n",
        "\\begin{align*}\n",
        "p(X = 1) &= p, \\\\\n",
        "p(X = 0) &= 1 - p.\n",
        "\\end{align*}\n",
        "\n",
        "Here $p$ is the probability of the 'positive' outcome. For example, in the case of a *fair* coin toss, $p = 0.5$ so that both outcomes have a 50\\% chance of occurring. As we will see shortly, most distributions have multiple parameters.\n",
        "\n",
        "#### Probability mass function\n",
        "A *discrete* probability distribution can be uniquely defined by its *probability mass function (PMF)*.\n",
        "\n",
        "```{margin}\n",
        "The term 'mass' is used to underline that the support of the distribution is discrete, and each possible values carries a certain `mass` (probability).\n",
        "For continuous distributions, the analogous is *probability density function (PDF)*, we will see those later.\n",
        "```\n",
        "For the Bernoulli distribution, we write the PMF as\n",
        "\n",
        "\\begin{align*}\n",
        "p(X = x) = \\text{Bernoulli}(X\\mid p) &= \\begin{cases}\n",
        "p\\, & \\text{if } x = 1 \\\\\n",
        "1 - p\\, & \\text{if } x = 0\n",
        "\\end{cases} \\\\\n",
        "&= p^x(1-p)^{1-x}.\n",
        "\\end{align*}\n",
        "\n",
        "**Exercise:** convince yourself that the two definitions of the Bernoulli distribution shown above are equivalent.\n",
        "\n",
        "Now let's construct a Bernoulli distribution in code so that we can play around with it and get some intuition.\n",
        "\n",
        "**Note:** In this practical, we are going to use `numpyro` to construct our distributions. However, there are several other `jax` packages that work similarly (e.g., `distrax`) as well as several options for `tensorflow` (e.g., `tensorflow_probability`) and `pytorch` (e.g., `torch.distribution`). Don't worry too much about the specifics of how `numpyro` works, e.g., the names of the distributions and their arguments. Instead try to understand what the code is doing."
      ]
    },
    {
      "cell_type": "markdown",
      "metadata": {},
      "source": [
        "#### Drawing a sample\n",
        "\n",
        "We construct the distribution with a certain value of the parameter `p`:"
      ]
    },
    {
      "cell_type": "code",
      "execution_count": 39,
      "metadata": {},
      "outputs": [],
      "source": [
        "p = jnp.array(0.5)\n",
        "bernoulli = dist.Bernoulli(probs=p)"
      ]
    },
    {
      "cell_type": "markdown",
      "metadata": {},
      "source": [
        "Now that we have constructed the distribution we can get a *sample* from it:\n",
        "\n",
        "```{margin}\n",
        "We can think of a sample as a realisation of the random variable. \n",
        "```"
      ]
    },
    {
      "cell_type": "code",
      "execution_count": 40,
      "metadata": {},
      "outputs": [
        {
          "name": "stdout",
          "output_type": "stream",
          "text": [
            "1\n"
          ]
        }
      ],
      "source": [
        "sample = bernoulli.sample(key=rng)\n",
        "print(sample)"
      ]
    },
    {
      "cell_type": "markdown",
      "metadata": {},
      "source": [
        "And we can evaluate the probability of observing a sample.\n",
        "\n",
        "**Note:** the distribution objects in `numpyro` (and indeed most other libraries for probability distributions) return *log*-probabilities rather than raw probabilities. This means that we need to take the exponent if we want to know the probability."
      ]
    },
    {
      "cell_type": "code",
      "execution_count": 41,
      "metadata": {},
      "outputs": [
        {
          "name": "stdout",
          "output_type": "stream",
          "text": [
            "log p(X = 1) = -0.6931471824645996\n",
            "p(X = 1) = 0.5\n"
          ]
        }
      ],
      "source": [
        "log_prob = bernoulli.log_prob(sample)\n",
        "print(f\"log p(X = {sample}) = {log_prob}\")\n",
        "print(f\"p(X = {sample}) = {jnp.exp(log_prob)}\")"
      ]
    },
    {
      "cell_type": "markdown",
      "metadata": {},
      "source": [
        "As expected, we get a probability of 0.5."
      ]
    },
    {
      "cell_type": "markdown",
      "metadata": {},
      "source": [
        "#### Multiple samples\n",
        "\n",
        "We can also easily get multiple samples:\n",
        "\n",
        "```{margin}\n",
        "Multiple samples are different realisations of the *same* random variable.\n",
        "```"
      ]
    },
    {
      "cell_type": "code",
      "execution_count": 43,
      "metadata": {},
      "outputs": [
        {
          "name": "stdout",
          "output_type": "stream",
          "text": [
            "[0 0 1 1 0 1 1]\n"
          ]
        }
      ],
      "source": [
        "n_samps = 7\n",
        "samples = bernoulli.sample(key=rng, sample_shape=(n_samps,))\n",
        "print(samples)"
      ]
    },
    {
      "cell_type": "markdown",
      "metadata": {},
      "source": [
        "What if we wanted to evaluate the probability of observing all of our samples?\n",
        "\n",
        "The `bernoulli` object we created earlier treats each sample individually and returns the probabilities of observing each sample on its own:"
      ]
    },
    {
      "cell_type": "code",
      "execution_count": 26,
      "metadata": {},
      "outputs": [
        {
          "name": "stdout",
          "output_type": "stream",
          "text": [
            "[0.5 0.5 0.5 0.5 0.5 0.5 0.5]\n"
          ]
        }
      ],
      "source": [
        "individual_sample_probs = jnp.exp(bernoulli.log_prob(samples))\n",
        "print(individual_sample_probs)"
      ]
    },
    {
      "cell_type": "markdown",
      "metadata": {},
      "source": [
        "But, we can use one of the laws of probability to compute the probability of observing all of the samples together:\n",
        "\n",
        "\\begin{align*}\n",
        "p(X_1=x_1, X_2=x_2, \\dots, X_N=x_n) = \\prod_{n=1}^N p(X_n=x_n).\n",
        "\\end{align*}\n",
        "\n",
        "This is called the *product rule of probability*, and it says that for *independent* random variables, the joint probability (i.e., the probability of observing them all together) is equal to the product of the individual probabilities.\n",
        "\n",
        "Now, let's calculate the joint probability of our samples.\n",
        "\n",
        "```{margin}\n",
        "Working with log-probabilities is preferable due to numerical stability, computational efficiency, and ease of handling multiplicative operations.\n",
        "```"
      ]
    },
    {
      "cell_type": "code",
      "execution_count": 27,
      "metadata": {},
      "outputs": [
        {
          "name": "stdout",
          "output_type": "stream",
          "text": [
            "0.0078125\n"
          ]
        }
      ],
      "source": [
        "joint_prob = jnp.prod(individual_sample_probs)\n",
        "print(joint_prob)"
      ]
    },
    {
      "cell_type": "markdown",
      "metadata": {},
      "source": [
        "#### Visualise PMF\n",
        "\n",
        "Now let's visualise the PMF:"
      ]
    },
    {
      "cell_type": "code",
      "execution_count": 93,
      "metadata": {},
      "outputs": [],
      "source": [
        "def Bernouilli_vis(rng, p, n_samps):\n",
        "\n",
        "    # define distribution\n",
        "    bernoulli_ = dist.Bernoulli(probs=p)\n",
        "\n",
        "    # collect samples\n",
        "    samples = bernoulli_.sample(key=rng, sample_shape=(n_samps,))\n",
        "\n",
        "    # how many ones\n",
        "    num_ones = (samples == 1.).sum()\n",
        "\n",
        "    # how many zeros\n",
        "    num_zeros = (samples == 0.).sum()\n",
        "\n",
        "    # plot\n",
        "    fig = plt.figure(dpi=100, figsize=(5, 3))\n",
        "    ax = fig.add_subplot(1, 1, 1)\n",
        "    ax.bar([0, 1], [num_zeros/n_samps, num_ones/n_samps], alpha=0.7)\n",
        "    ax.set_xticks([0, 1])\n",
        "    ax.set_xlabel('Outcome (x)')\n",
        "    ax.set_ylabel('Probability Mass p(X=x)')\n",
        "    ax.set_title(f'Bernoulli Distribution (p={p})')\n",
        "    \n",
        "    plt.show()\n",
        "\n"
      ]
    },
    {
      "cell_type": "code",
      "execution_count": 94,
      "metadata": {},
      "outputs": [
        {
          "data": {
            "image/png": "[encoded data removed]",
            "text/plain": [
              "<Figure size 500x300 with 1 Axes>"
            ]
          },
          "metadata": {},
          "output_type": "display_data"
        }
      ],
      "source": [
        "Bernouilli_vis(rng, p=0.2, n_samps=10)"
      ]
    },
    {
      "cell_type": "code",
      "execution_count": 96,
      "metadata": {},
      "outputs": [
        {
          "data": {
            "image/png": "[encoded data removed]",
            "text/plain": [
              "<Figure size 500x300 with 1 Axes>"
            ]
          },
          "metadata": {},
          "output_type": "display_data"
        }
      ],
      "source": [
        "Bernouilli_vis(rng, p=0.7, n_samps=100)"
      ]
    },
    {
      "cell_type": "markdown",
      "metadata": {},
      "source": [
        "**Exercise:**  plot a panel of histograms where you vary probability $p$ horizontally and numher of samples $n$ vertically. "
      ]
    },
    {
      "cell_type": "markdown",
      "metadata": {},
      "source": [
        "### The Binomial distribution\n",
        "\n",
        "A binomial distribution is a discrete probability distribution that models the number of successes \"x\" in a fixed number of independent and identical Bernoulli trials, where each trial has only two possible outcomes: success or failure. \n",
        "\n",
        "Key characteristics of a binomial distribution:\n",
        "\n",
        "- Two Outcomes: Each trial results in one of two possible outcomes, typically denoted as \"success\" (represented as \"1\") or \"failure\" (represented as \"0\" or \"not a success\").\n",
        "\n",
        "- Fixed Number of Trials ($n$): The distribution considers a fixed number of trials, denoted as $n$, which is the total number of times the event is repeated.\n",
        "\n",
        "- Probability of Success ($p$): The probability of success on each individual trial is constant and denoted as $p$. \n",
        "\n",
        "- Independence: Each trial is assumed to be independent, meaning the outcome of one trial does not affect the outcome of another.\n",
        "\n",
        "#### Probability mass function\n",
        "\n",
        "$$P(X = x) = \\binom{n}{x} p^x (1 - p)^{n - x},$$\n",
        "\n",
        "where\n",
        "\n",
        "- $P(X = x)$ is the probability of getting exactly $x$ successes,\n",
        "\n",
        "- $\\binom{n}{x}$ is the binomial coefficient, representing the number of ways to choose $x$ successes out of $n$ trials,\n",
        "\n",
        "- $p$ is the probability of success on a single trial,\n",
        "\n",
        "- $1-p$ is the probability of failure on a single trial,\n",
        "\n",
        "- the bnumber of successes $x$ ranges from $0$ to $n$ inclusive.\n",
        "\n",
        "#### Drawing a sample"
      ]
    },
    {
      "cell_type": "markdown",
      "metadata": {},
      "source": [
        "As before, we begin by constructing the distribution:"
      ]
    },
    {
      "cell_type": "code",
      "execution_count": 97,
      "metadata": {},
      "outputs": [],
      "source": [
        "p = 0.3\n",
        "n = 10\n",
        "binomial = dist.Binomial(total_count=n, probs=p)"
      ]
    },
    {
      "cell_type": "markdown",
      "metadata": {},
      "source": [
        "Now we can draw a sample from this distribution:"
      ]
    },
    {
      "cell_type": "code",
      "execution_count": 98,
      "metadata": {},
      "outputs": [
        {
          "name": "stdout",
          "output_type": "stream",
          "text": [
            "4\n"
          ]
        }
      ],
      "source": [
        "sample = binomial.sample(key=rng)\n",
        "print(sample)"
      ]
    },
    {
      "cell_type": "markdown",
      "metadata": {},
      "source": [
        "What is the probability to observe this sample?"
      ]
    },
    {
      "cell_type": "code",
      "execution_count": 99,
      "metadata": {},
      "outputs": [
        {
          "name": "stdout",
          "output_type": "stream",
          "text": [
            "log p(X = 4) = -1.608832836151123\n",
            "p(X = 4) = 0.20012104511260986\n"
          ]
        }
      ],
      "source": [
        "log_prob = binomial.log_prob(sample)\n",
        "print(f\"log p(X = {sample}) = {log_prob}\")\n",
        "print(f\"p(X = {sample}) = {jnp.exp(log_prob)}\")"
      ]
    },
    {
      "cell_type": "markdown",
      "metadata": {},
      "source": [
        "#### Multiple samples"
      ]
    },
    {
      "cell_type": "markdown",
      "metadata": {},
      "source": [
        "Let us generate samples repeatedly: "
      ]
    },
    {
      "cell_type": "code",
      "execution_count": 100,
      "metadata": {},
      "outputs": [
        {
          "name": "stdout",
          "output_type": "stream",
          "text": [
            "[3 6 1 3 2 4 5]\n"
          ]
        }
      ],
      "source": [
        "n_samps = 7\n",
        "samples = binomial.sample(key=rng, sample_shape=(n_samps,))\n",
        "print(samples)"
      ]
    },
    {
      "cell_type": "markdown",
      "metadata": {},
      "source": [
        "Individual probabilities to observe the samples:"
      ]
    },
    {
      "cell_type": "code",
      "execution_count": 101,
      "metadata": {},
      "outputs": [
        {
          "name": "stdout",
          "output_type": "stream",
          "text": [
            "[0.26682812 0.03675695 0.12106086 0.26682812 0.23347507 0.20012105\n",
            " 0.10291947]\n"
          ]
        }
      ],
      "source": [
        "individual_sample_probs = jnp.exp(binomial.log_prob(samples))\n",
        "print(individual_sample_probs)"
      ]
    },
    {
      "cell_type": "markdown",
      "metadata": {},
      "source": [
        "Assuming that teh samples are independent, what is the joint probability ob observeing them?"
      ]
    },
    {
      "cell_type": "code",
      "execution_count": 102,
      "metadata": {},
      "outputs": [
        {
          "name": "stdout",
          "output_type": "stream",
          "text": [
            "1.5234818e-06\n"
          ]
        }
      ],
      "source": [
        "joint_prob = jnp.prod(individual_sample_probs)\n",
        "print(joint_prob)"
      ]
    },
    {
      "cell_type": "markdown",
      "metadata": {},
      "source": [
        "#### Visualise PMF"
      ]
    },
    {
      "cell_type": "code",
      "execution_count": 103,
      "metadata": {},
      "outputs": [],
      "source": [
        "def binomial_vis(rng, p, n, x_ticks=True):\n",
        "    \n",
        "    # Binomial distribution with n trials and probability of success p\n",
        "    binomial = dist.Binomial(total_count=n, probs=p)\n",
        "    \n",
        "    # Generate the possible outcomes (x values)\n",
        "    x_values = jnp.arange(0, n + 1)\n",
        "\n",
        "    pmf_values = jnp.exp(binomial.log_prob(x_values))\n",
        "\n",
        "    # Create a bar plot (PMF plot)\n",
        "    fig = plt.figure(dpi=100, figsize=(5, 3))\n",
        "    plt.bar(x_values, pmf_values, align='center', alpha=0.7)\n",
        "    plt.xlabel('Number of Successes (x)')\n",
        "    plt.ylabel('Probability Mass p(X=x)')\n",
        "    plt.title(f'Binomial Distribution (n={n}, p={p})')\n",
        "    if x_ticks:\n",
        "        plt.xticks(x_values)\n",
        "    plt.grid(axis='y', linestyle='--', alpha=0.7)\n",
        "\n",
        "    plt.show()\n"
      ]
    },
    {
      "cell_type": "code",
      "execution_count": 83,
      "metadata": {},
      "outputs": [
        {
          "data": {
            "image/png": "[encoded data removed]",
            "text/plain": [
              "<Figure size 500x300 with 1 Axes>"
            ]
          },
          "metadata": {},
          "output_type": "display_data"
        }
      ],
      "source": [
        "binomial_vis(rng, p=0.2, n=6)"
      ]
    },
    {
      "cell_type": "code",
      "execution_count": 84,
      "metadata": {},
      "outputs": [
        {
          "data": {
            "image/png": "[encoded data removed]",
            "text/plain": [
              "<Figure size 500x300 with 1 Axes>"
            ]
          },
          "metadata": {},
          "output_type": "display_data"
        }
      ],
      "source": [
        "binomial_vis(rng, p=0.2, n=100, x_ticks=False)"
      ]
    },
    {
      "cell_type": "markdown",
      "metadata": {},
      "source": [
        "**Exercise:**  what is qualitatively different between the distributions `Bernoulli(p=0.2, n=6)` and `Bernoulli(p=0.2, n=100)`?"
      ]
    },
    {
      "cell_type": "markdown",
      "metadata": {},
      "source": []
    },
    {
      "cell_type": "markdown",
      "metadata": {},
      "source": [
        "### The Categorical distribution"
      ]
    },
    {
      "cell_type": "markdown",
      "metadata": {},
      "source": [
        "### The Ordered distribution"
      ]
    },
    {
      "cell_type": "markdown",
      "metadata": {},
      "source": [
        "## Continuous Distributions\n",
        "\n",
        "### Beta distribution\n",
        "\n",
        "### Gamma distribution\n",
        "\n",
        "### Normal distribution\n",
        "\n",
        "### Multivariate Normal distribution"
      ]
    },
    {
      "cell_type": "markdown",
      "metadata": {},
      "source": []
    }
  ],
  "metadata": {
    "colab": {
      "provenance": []
    },
    "kernelspec": {
      "display_name": "Python 3",
      "name": "python3"
    },
    "language_info": {
      "codemirror_mode": {
        "name": "ipython",
        "version": 3
      },
      "file_extension": ".py",
      "mimetype": "text/x-python",
      "name": "python",
      "nbconvert_exporter": "python",
      "pygments_lexer": "ipython3",
      "version": "3.9.7"
    }
  },
  "nbformat": 4,
  "nbformat_minor": 0
}

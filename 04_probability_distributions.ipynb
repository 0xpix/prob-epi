{
  "cells": [
    {
      "cell_type": "markdown",
      "metadata": {},
      "source": [
        "# Probability Distributions and Random Variables"
      ]
    },
    {
      "cell_type": "markdown",
      "metadata": {},
      "source": [
        "Throughout the course we will work with probability distributions. Hence, it is important to master the basic principles of probability distributions, and learn to manipulate probabilities in code.\n",
        "\n",
        "Probability distributions and random variables serve as tools for describing and performing calculations related to random events, specifically those whose outcomes are uncertain. An illustrative instance of such an uncertain event would be the act of flipping a coin or rolling a dice. In the former case, the potential outcomes are heads or tails. An example from epidemiology, is the number of disease cases on a given day.\n",
        "\n",
        "In the context of epidemiological modelling, we will encounter data of different type and origin. It is crucial to grasp the suitability of different probability distributions for modeling specific types of data.\n",
        "\n",
        "Since the probabilistic programming language that we will be using for this course is **Numpyro**, also in this section we will use the implementations of distributions from this library avalable via `import numpyro.distributions as dist`"
      ]
    },
    {
      "cell_type": "code",
      "execution_count": 1,
      "metadata": {},
      "outputs": [],
      "source": [
        "# uncomment this line on Colab\n",
        "# !pip install numpyro"
      ]
    },
    {
      "cell_type": "markdown",
      "metadata": {},
      "source": [
        "```{margin}\n",
        "In all notebooks od this course, we will always import all necessary libraries in the first code cell.\n",
        "```"
      ]
    },
    {
      "cell_type": "code",
      "execution_count": 2,
      "metadata": {},
      "outputs": [
        {
          "name": "stderr",
          "output_type": "stream",
          "text": [
            "/opt/anaconda3/envs/aims/lib/python3.9/site-packages/tqdm/auto.py:21: TqdmWarning: IProgress not found. Please update jupyter and ipywidgets. See https://ipywidgets.readthedocs.io/en/stable/user_install.html\n",
            "  from .autonotebook import tqdm as notebook_tqdm\n"
          ]
        }
      ],
      "source": [
        "import jax\n",
        "import jax.numpy as jnp\n",
        "\n",
        "# dsitributions\n",
        "import numpyro.distributions as dist\n",
        "\n",
        "import matplotlib.pyplot as plt\n",
        "from scipy.stats import gaussian_kde\n",
        "\n",
        "# Since we are using jax, we will need a random key:\n",
        "rng = jax.random.PRNGKey(42)"
      ]
    },
    {
      "cell_type": "markdown",
      "metadata": {},
      "source": [
        "## Discrete Distributions\n",
        "\n",
        "Discrete probability distributions represent the probabilities of distinct outcomes in a <span style=\"color:orange\">finite</span> or <span style=\"color:orange\">countably infinite</span> sample space."
      ]
    },
    {
      "cell_type": "markdown",
      "metadata": {},
      "source": [
        "### The Bernoulli distribution\n",
        "\n",
        "A Bernoulli distribution is used to describe random events with <span style=\"color:orange\">two possible outcomes</span> e.g. when we have a random variable $X$ that takes on one of the two values $x \\in \\{0, 1\\}$ with probabilities $1-p$ and $p, 0 \\le p \\le 1$ respectively:\n",
        "\n",
        "\\begin{align*}\n",
        "p(X = 1) &= p, \\\\\n",
        "p(X = 0) &= 1 - p.\n",
        "\\end{align*}\n",
        "\n",
        "Here $p$ is the probability of the 'positive' outcome. For example, in the case of a *fair* coin toss, $p = 0.5$ so that both outcomes have a 50\\% chance of occurring. As we will see shortly, most distributions have multiple parameters.\n",
        "\n",
        "We will be denoting this distribution as \n",
        "\n",
        "$$\n",
        "\\mathcal{Bern}(p).\n",
        "$$\n",
        "\n",
        "#### Probability mass function\n",
        "A *discrete* probability distribution can be uniquely defined by its <span style=\"color:orange\">probability mass function (PMF)</span>.\n",
        "\n",
        "```{margin}\n",
        "The term 'mass' is used to underline that the support of the distribution is discrete, and each possible value carries a certain `mass` (probability).\n",
        "For continuous distributions, the analogous is *probability density function (PDF)*, we will see those later.\n",
        "```\n",
        "For the Bernoulli distribution, we write the PMF as\n",
        "\n",
        "\\begin{align*}\n",
        "p(X = x) = \\mathcal{Bern}(X\\mid p) &= \\begin{cases}\n",
        "p\\, & \\text{if } x = 1 \\\\\n",
        "1 - p\\, & \\text{if } x = 0\n",
        "\\end{cases} \\\\\n",
        "&= p^x(1-p)^{1-x}.\n",
        "\\end{align*}\n",
        "\n",
        "**Exercise:** convince yourself that the two definitions of the Bernoulli distribution shown above are equivalent.\n",
        "\n",
        "Now let's construct a Bernoulli distribution in code."
      ]
    },
    {
      "cell_type": "markdown",
      "metadata": {},
      "source": [
        "#### Drawing a sample\n",
        "\n",
        "We construct the distribution with a certain value of the parameter `p`:"
      ]
    },
    {
      "cell_type": "code",
      "execution_count": 3,
      "metadata": {},
      "outputs": [],
      "source": [
        "p = jnp.array(0.5)\n",
        "bernoulli = dist.Bernoulli(probs=p)"
      ]
    },
    {
      "cell_type": "markdown",
      "metadata": {},
      "source": [
        "Now that we have constructed the distribution we can get a *sample* from it:\n",
        "\n",
        "```{margin}\n",
        "We can think of a sample as a <span style=\"color:orange\">realisation</span> of a random variable. \n",
        "```"
      ]
    },
    {
      "cell_type": "code",
      "execution_count": 4,
      "metadata": {},
      "outputs": [
        {
          "name": "stdout",
          "output_type": "stream",
          "text": [
            "1\n"
          ]
        }
      ],
      "source": [
        "sample = bernoulli.sample(key=rng)\n",
        "print(sample)"
      ]
    },
    {
      "cell_type": "markdown",
      "metadata": {},
      "source": [
        "And we can evaluate the probability of observing a sample.\n",
        "\n",
        "**Note:** the distribution objects in `numpyro` (and most other libraries for probability distributions) return <span style=\"color:orange\">*log*-probabilities</span> rather than raw probabilities. This means that we need to take the exponent if we want to know the probability."
      ]
    },
    {
      "cell_type": "code",
      "execution_count": 5,
      "metadata": {},
      "outputs": [
        {
          "name": "stdout",
          "output_type": "stream",
          "text": [
            "log p(X = 1) = -0.6931471824645996\n",
            "p(X = 1) = 0.5\n"
          ]
        }
      ],
      "source": [
        "log_prob = bernoulli.log_prob(sample)\n",
        "print(f\"log p(X = {sample}) = {log_prob}\")\n",
        "print(f\"p(X = {sample}) = {jnp.exp(log_prob)}\")"
      ]
    },
    {
      "cell_type": "markdown",
      "metadata": {},
      "source": [
        "As expected, we get a probability of 0.5."
      ]
    },
    {
      "cell_type": "markdown",
      "metadata": {},
      "source": [
        "#### Multiple samples\n",
        "\n",
        "We can also easily get multiple samples in one command:\n",
        "\n",
        "```{margin}\n",
        "Multiple samples are different realisations of the <span style=\"color:orange\">same</span> random variable.\n",
        "```"
      ]
    },
    {
      "cell_type": "code",
      "execution_count": 6,
      "metadata": {},
      "outputs": [
        {
          "name": "stdout",
          "output_type": "stream",
          "text": [
            "[0 0 1 1 0 1 1]\n"
          ]
        }
      ],
      "source": [
        "n_samps = 7\n",
        "samples = bernoulli.sample(key=rng, sample_shape=(n_samps,))\n",
        "print(samples)"
      ]
    },
    {
      "cell_type": "markdown",
      "metadata": {},
      "source": [
        "What if we wanted to evaluate the probability of observing all of our samples?\n",
        "\n",
        "The `bernoulli` object we created earlier treats each sample individually and returns the probabilities of observing each sample on its own:"
      ]
    },
    {
      "cell_type": "code",
      "execution_count": 7,
      "metadata": {},
      "outputs": [
        {
          "name": "stdout",
          "output_type": "stream",
          "text": [
            "[0.5 0.5 0.5 0.5 0.5 0.5 0.5]\n"
          ]
        }
      ],
      "source": [
        "individual_sample_probs = jnp.exp(bernoulli.log_prob(samples))\n",
        "print(individual_sample_probs)"
      ]
    },
    {
      "cell_type": "markdown",
      "metadata": {},
      "source": [
        "But, we can use one of the laws of probability to compute the probability of observing all of the samples together:\n",
        "\n",
        "\\begin{align*}\n",
        "p(X_1=x_1, X_2=x_2, \\dots, X_N=x_n) = \\prod_{n=1}^N p(X_n=x_n).\n",
        "\\end{align*}\n",
        "\n",
        "This is called the <span style=\"color:orange\">product rule of probability</span>, and it says that for *independent* random variables, the joint probability (i.e., the probability of observing them all together) is equal to the product of the individual probabilities.\n",
        "\n",
        "Now, let's calculate the joint probability of our samples.\n",
        "\n",
        "```{margin}\n",
        "Working with log-probabilities is preferable due to numerical stability, computational efficiency, and ease of handling multiplicative operations.\n",
        "```"
      ]
    },
    {
      "cell_type": "code",
      "execution_count": 8,
      "metadata": {},
      "outputs": [
        {
          "name": "stdout",
          "output_type": "stream",
          "text": [
            "0.0078125\n"
          ]
        }
      ],
      "source": [
        "joint_prob = jnp.prod(individual_sample_probs)\n",
        "print(joint_prob)"
      ]
    },
    {
      "cell_type": "markdown",
      "metadata": {},
      "source": [
        "#### Visualise PMF\n",
        "\n",
        "Now let's visualise the PMF:"
      ]
    },
    {
      "cell_type": "code",
      "execution_count": 9,
      "metadata": {},
      "outputs": [],
      "source": [
        "def Bernouilli_vis(rng, p, n_samps):\n",
        "\n",
        "    # define distribution\n",
        "    bernoulli_ = dist.Bernoulli(probs=p)\n",
        "\n",
        "    # collect samples\n",
        "    samples = bernoulli_.sample(key=rng, sample_shape=(n_samps,))\n",
        "\n",
        "    # how many ones\n",
        "    num_ones = (samples == 1.).sum()\n",
        "\n",
        "    # how many zeros\n",
        "    num_zeros = (samples == 0.).sum()\n",
        "\n",
        "    # plot\n",
        "    fig = plt.figure(dpi=100, figsize=(5, 3))\n",
        "    ax = fig.add_subplot(1, 1, 1)\n",
        "    ax.bar([0, 1], [num_zeros/n_samps, num_ones/n_samps], alpha=0.7, color='teal')\n",
        " \n",
        "    ax.set_xticks([0, 1])\n",
        "    ax.set_xlabel('Outcome (x)')\n",
        "    ax.set_ylabel('Probability Mass p(X=x)')\n",
        "    ax.set_title(f'Bernoulli Distribution (p={p})')\n",
        "    ax.grid(True)\n",
        "    \n",
        "    plt.show()\n",
        "\n"
      ]
    },
    {
      "cell_type": "code",
      "execution_count": 10,
      "metadata": {},
      "outputs": [
        {
          "data": {
            "image/png": "[encoded data removed]",
            "text/plain": [
              "<Figure size 500x300 with 1 Axes>"
            ]
          },
          "metadata": {
            "needs_background": "light"
          },
          "output_type": "display_data"
        }
      ],
      "source": [
        "Bernouilli_vis(rng, p=0.2, n_samps=10)"
      ]
    },
    {
      "cell_type": "markdown",
      "metadata": {},
      "source": [
        "`````{admonition} Task\n",
        ":class: tip\n",
        "Recreate this plot using `bernoulli.log_prob(sample)` functionality (see examples below).\n",
        "`````"
      ]
    },
    {
      "cell_type": "code",
      "execution_count": 11,
      "metadata": {},
      "outputs": [
        {
          "data": {
            "image/png": "[encoded data removed]",
            "text/plain": [
              "<Figure size 500x300 with 1 Axes>"
            ]
          },
          "metadata": {
            "needs_background": "light"
          },
          "output_type": "display_data"
        }
      ],
      "source": [
        "Bernouilli_vis(rng, p=0.7, n_samps=100)"
      ]
    },
    {
      "cell_type": "markdown",
      "metadata": {},
      "source": [
        "`````{admonition} Task\n",
        ":class: tip\n",
        "Plot a panel of histograms where you vary probability $p$ horizontally and number of samples $n$ vertically. What do you observe?\n",
        "`````"
      ]
    },
    {
      "cell_type": "markdown",
      "metadata": {},
      "source": [
        "#### Common usage\n",
        "\n",
        "Bernoulli dsitribution is commonly used as a likelihood in models with binary outcomes, such as presence or absence of a disease."
      ]
    },
    {
      "cell_type": "markdown",
      "metadata": {},
      "source": [
        "### The Binomial distribution\n",
        "\n",
        "A binomial distribution is a discrete probability distribution that models the <font color='orange'>number of successes</font> \"x\" in a fixed number of independent and identical Bernoulli trials, where each trial has only two possible outcomes: success or failure. \n",
        "\n",
        "Key characteristics of a binomial distribution:\n",
        "\n",
        "- Two Outcomes: each trial results in one of two possible outcomes, typically denoted as \"success\" (represented as \"1\") or \"failure\" (represented as \"0\" or \"not a success\").\n",
        "\n",
        "- Fixed Number of Trials ($n$): the distribution considers a fixed number of trials, denoted as $n$, which is the total number of times the event is repeated.\n",
        "\n",
        "- Probability of Success ($p$): the probability of success on each individual trial is constant and denoted as $p$. \n",
        "\n",
        "- Independence: each trial is assumed to be independent, meaning the outcome of one trial does not affect the outcome of another.\n",
        "\n",
        "We will use the notation \n",
        "\n",
        "$$\n",
        "\\mathcal{Binom}(n,p)\n",
        "$$\n",
        "\n",
        "#### Probability mass function\n",
        "\n",
        "The PMF of the Bernoulli distribution is\n",
        "\n",
        "$$P(X = x) = \\binom{n}{x} p^x (1 - p)^{n - x},$$\n",
        "\n",
        "where\n",
        "\n",
        "- $P(X = x)$ is the probability of getting exactly $x$ successes,\n",
        "\n",
        "- $\\binom{n}{x}$ is the binomial coefficient, representing the number of ways to choose $x$ successes out of $n$ trials,\n",
        "\n",
        "- $p$ is the probability of success on a single trial,\n",
        "\n",
        "- $1-p$ is the probability of failure on a single trial,\n",
        "\n",
        "- the bnumber of successes $x$ ranges from $0$ to $n$ inclusive.\n",
        "\n",
        "`````{admonition} Task\n",
        ":class: tip\n",
        "Compute $\\sum_{x=0}^n P(X=x)$.\n",
        "`````\n",
        "\n",
        "#### Drawing a sample"
      ]
    },
    {
      "cell_type": "markdown",
      "metadata": {},
      "source": [
        "As before, we begin by constructing the distribution:"
      ]
    },
    {
      "cell_type": "code",
      "execution_count": 12,
      "metadata": {},
      "outputs": [],
      "source": [
        "p = 0.3\n",
        "n = 10\n",
        "binomial = dist.Binomial(total_count=n, probs=p)"
      ]
    },
    {
      "cell_type": "markdown",
      "metadata": {},
      "source": [
        "Now we can draw a sample from this distribution:"
      ]
    },
    {
      "cell_type": "code",
      "execution_count": 13,
      "metadata": {},
      "outputs": [
        {
          "name": "stdout",
          "output_type": "stream",
          "text": [
            "4\n"
          ]
        }
      ],
      "source": [
        "sample = binomial.sample(key=rng)\n",
        "print(sample)"
      ]
    },
    {
      "cell_type": "markdown",
      "metadata": {},
      "source": [
        "What is the probability to observe this sample?"
      ]
    },
    {
      "cell_type": "code",
      "execution_count": 14,
      "metadata": {},
      "outputs": [
        {
          "name": "stdout",
          "output_type": "stream",
          "text": [
            "log p(X = 4) = -1.608832836151123\n",
            "p(X = 4) = 0.20012104511260986\n"
          ]
        }
      ],
      "source": [
        "log_prob = binomial.log_prob(sample)\n",
        "print(f\"log p(X = {sample}) = {log_prob}\")\n",
        "print(f\"p(X = {sample}) = {jnp.exp(log_prob)}\")"
      ]
    },
    {
      "cell_type": "markdown",
      "metadata": {},
      "source": [
        "#### Multiple samples"
      ]
    },
    {
      "cell_type": "markdown",
      "metadata": {},
      "source": [
        "Let us generate samples repeatedly: "
      ]
    },
    {
      "cell_type": "code",
      "execution_count": 15,
      "metadata": {},
      "outputs": [
        {
          "name": "stdout",
          "output_type": "stream",
          "text": [
            "[3 6 1 3 2 4 5]\n"
          ]
        }
      ],
      "source": [
        "n_samps = 7\n",
        "samples = binomial.sample(key=rng, sample_shape=(n_samps,))\n",
        "print(samples)"
      ]
    },
    {
      "cell_type": "markdown",
      "metadata": {},
      "source": [
        "Individual probabilities to observe the samples:"
      ]
    },
    {
      "cell_type": "code",
      "execution_count": 16,
      "metadata": {},
      "outputs": [
        {
          "name": "stdout",
          "output_type": "stream",
          "text": [
            "[0.26682812 0.03675695 0.12106086 0.26682812 0.23347507 0.20012105\n",
            " 0.10291947]\n"
          ]
        }
      ],
      "source": [
        "individual_sample_probs = jnp.exp(binomial.log_prob(samples))\n",
        "print(individual_sample_probs)"
      ]
    },
    {
      "cell_type": "markdown",
      "metadata": {},
      "source": [
        "Assuming that the samples are independent, what is the joint probability ob observeing them?"
      ]
    },
    {
      "cell_type": "code",
      "execution_count": 17,
      "metadata": {},
      "outputs": [
        {
          "name": "stdout",
          "output_type": "stream",
          "text": [
            "1.5234818e-06\n"
          ]
        }
      ],
      "source": [
        "joint_prob = jnp.prod(individual_sample_probs)\n",
        "print(joint_prob)"
      ]
    },
    {
      "cell_type": "markdown",
      "metadata": {},
      "source": [
        "#### Visualise PMF"
      ]
    },
    {
      "cell_type": "code",
      "execution_count": 18,
      "metadata": {},
      "outputs": [],
      "source": [
        "def binomial_vis(rng, p, n, x_ticks=True):\n",
        "    \n",
        "    # Binomial distribution with n trials and probability of success p\n",
        "    binomial = dist.Binomial(total_count=n, probs=p)\n",
        "    \n",
        "    # Generate the possible outcomes (x values)\n",
        "    x_values = jnp.arange(0, n + 1)\n",
        "\n",
        "    pmf_values = jnp.exp(binomial.log_prob(x_values))\n",
        "\n",
        "    # Create a bar plot (PMF plot)\n",
        "    fig = plt.figure(dpi=100, figsize=(5, 3))\n",
        "    plt.bar(x_values, pmf_values, align='center', alpha=0.7, color='teal')\n",
        "    plt.xlabel('Number of Successes (x)')\n",
        "    plt.ylabel('Probability Mass p(X=x)')\n",
        "    plt.title(f'Binomial Distribution (n={n}, p={p})')\n",
        "    if x_ticks:\n",
        "        plt.xticks(x_values)\n",
        "    plt.grid( linestyle='--', alpha=0.7)\n",
        "\n",
        "    plt.show()\n"
      ]
    },
    {
      "cell_type": "code",
      "execution_count": 19,
      "metadata": {},
      "outputs": [
        {
          "data": {
            "image/png": "[encoded data removed]",
            "text/plain": [
              "<Figure size 500x300 with 1 Axes>"
            ]
          },
          "metadata": {
            "needs_background": "light"
          },
          "output_type": "display_data"
        }
      ],
      "source": [
        "binomial_vis(rng, p=0.2, n=6)"
      ]
    },
    {
      "cell_type": "code",
      "execution_count": 20,
      "metadata": {},
      "outputs": [
        {
          "data": {
            "image/png": "[encoded data removed]",
            "text/plain": [
              "<Figure size 500x300 with 1 Axes>"
            ]
          },
          "metadata": {
            "needs_background": "light"
          },
          "output_type": "display_data"
        }
      ],
      "source": [
        "binomial_vis(rng, p=0.2, n=100, x_ticks=False)"
      ]
    },
    {
      "cell_type": "markdown",
      "metadata": {},
      "source": [
        "`````{admonition} Task\n",
        ":class: tip\n",
        "What is qualitatively different between the distributions `Bernoulli(p=0.2, n=6)` and `Bernoulli(p=0.2, n=100)`?\n",
        "`````"
      ]
    },
    {
      "cell_type": "markdown",
      "metadata": {},
      "source": [
        "#### Common usage\n",
        "\n",
        "Binomial dsitribution is commonly used as a likelihood in models with binary outcomes with multiple experiments. For example, to model disease prevalence."
      ]
    },
    {
      "cell_type": "markdown",
      "metadata": {},
      "source": [
        "### The Categorical distribution\n",
        "\n",
        "A categorical distribution is used to model random events with multiple *discrete* outcomes, such as the die-rolling event from above. \n",
        "\n",
        "We can characterise the categorical distribution with its PMF:"
      ]
    },
    {
      "cell_type": "markdown",
      "metadata": {},
      "source": [
        "$$\n",
        "\\begin{align*}\n",
        "p(X = x) = \\mathcal{Categorical}(X \\mid p) = \\prod_{k=1}^K p_k^{I_{x=k}},\n",
        "\\end{align*}\n",
        "$$"
      ]
    },
    {
      "cell_type": "markdown",
      "metadata": {},
      "source": [
        "where $K$ is the number of possible outcomes, $p_k$ is the probability of the $k$th outcome, and $I_{x=k}$ is the indicator function which evaluates to 1 if $x = k$ and 0 otherwise. All porbabilties $p_k$ form a vector"
      ]
    },
    {
      "cell_type": "markdown",
      "metadata": {},
      "source": [
        "$$\n",
        "p = \n",
        "\\begin{pmatrix}\n",
        "p_1\\\\ \n",
        "p_2\\\\\n",
        "\\dots \\\\ \n",
        "p_K\n",
        "\\end{pmatrix},\n",
        "$$"
      ]
    },
    {
      "cell_type": "markdown",
      "metadata": {},
      "source": [
        "\n",
        "\n",
        "such that \n",
        "\n",
        "$$\n",
        "\\sum_k p_k = 1.\n",
        "$$"
      ]
    },
    {
      "cell_type": "markdown",
      "metadata": {},
      "source": [
        "`````{admonition} Task\n",
        ":class: tip\n",
        "Explain why a categorical distribution with $K = 2$ is equivalent to a Bernoulli distribution.\n",
        "`````"
      ]
    },
    {
      "cell_type": "code",
      "execution_count": 21,
      "metadata": {},
      "outputs": [],
      "source": [
        "ps = jnp.array([0.1, 0.2, 0.3, 0.4])\n",
        "categorical = dist.Categorical(probs=ps)"
      ]
    },
    {
      "cell_type": "markdown",
      "metadata": {},
      "source": [
        "As before we can take some samples:"
      ]
    },
    {
      "cell_type": "code",
      "execution_count": 22,
      "metadata": {},
      "outputs": [
        {
          "name": "stdout",
          "output_type": "stream",
          "text": [
            "[3 2 1 3 3 1 2 1 3 3]\n"
          ]
        }
      ],
      "source": [
        "samples = categorical.sample(key=rng, sample_shape=(10,))\n",
        "print(samples)"
      ]
    },
    {
      "cell_type": "code",
      "execution_count": 23,
      "metadata": {},
      "outputs": [
        {
          "name": "stdout",
          "output_type": "stream",
          "text": [
            "p(X=0) = 0.1\n",
            "p(X=1) = 0.2\n",
            "p(X=2) = 0.3\n",
            "p(X=3) = 0.4\n"
          ]
        }
      ],
      "source": [
        "print(f\"p(X=0) = {jnp.exp(categorical.log_prob(0)):.1f}\")\n",
        "print(f\"p(X=1) = {jnp.exp(categorical.log_prob(1)):.1f}\")\n",
        "print(f\"p(X=2) = {jnp.exp(categorical.log_prob(2)):.1f}\")\n",
        "print(f\"p(X=3) = {jnp.exp(categorical.log_prob(3)):.1f}\")"
      ]
    },
    {
      "cell_type": "markdown",
      "metadata": {},
      "source": [
        "We can use an alternative way to represent the categorical distribution. Instead of specifying the probabilities $p_k$, we specify logits $l_k$. Each $p_k$ is then computed as\n",
        "\n",
        "$$\n",
        "p_k = \\frac{\\exp(l_k)}{\\sum_{k'}\\exp(l_{k'})},\n",
        "$$\n",
        "\n",
        "i.e., using the softmax function."
      ]
    },
    {
      "cell_type": "code",
      "execution_count": 24,
      "metadata": {},
      "outputs": [
        {
          "data": {
            "image/png": "[encoded data removed]",
            "text/plain": [
              "<Figure size 500x300 with 1 Axes>"
            ]
          },
          "metadata": {
            "needs_background": "light"
          },
          "output_type": "display_data"
        }
      ],
      "source": [
        "l_0 = 0.7 \n",
        "l_1 = 0.3 \n",
        "l_2 = 2 \n",
        "l_3 = 1.6\n",
        "\n",
        "logits = jnp.array([l_0, l_1, l_2, l_3], dtype=jnp.float32)\n",
        "categorical = dist.Categorical(logits=logits)\n",
        "samples = categorical.sample(key=rng, sample_shape=(1000,))\n",
        "\n",
        "values =[0, 1, 2, 3]\n",
        "hist, _ = jnp.histogram(samples, bins=jnp.array(values + [4]), density=True)\n",
        "\n",
        "fig = plt.figure(dpi=100, figsize=(5, 3))\n",
        "#ax = fig.add_subplot(1, 1, 1)\n",
        "plt.bar(values, hist, color='teal', alpha=0.7)\n",
        "plt.xticks(values)\n",
        "plt.xlabel('x')\n",
        "plt.ylabel('p(X=x)')\n",
        "plt.grid(linestyle='--', alpha=0.7)\n",
        "plt.show()"
      ]
    },
    {
      "cell_type": "markdown",
      "metadata": {},
      "source": [
        "## Continuous Distributions\n",
        "\n",
        "Continuous probability distributions describe the probabilities of outcomes within a continuous range of values.\n",
        "\n",
        "### The Beta distribution\n",
        "\n",
        "The Beta distribution is a continuous distribution with support in $[0,1] \\subset \\mathbb{R}$.\n",
        "The Beta distribution can be used to describe a continuous random variable between 0 and 1, for example, percentages and ratios. It has the following form\n",
        "\n",
        "$$\n",
        "p(X = x) = \\mathcal{Beta}(x|\\alpha,\\beta) = \\frac{1}{\\mathrm{B}(\\alpha,\\beta)}x^{\\alpha-1}(1 - x)^{\\beta - 1},\n",
        "$$\n",
        "\n",
        "where $\\alpha > 0$ and $\\beta > 0$ are the two *shape* parameters of the distribution, and $\\mathrm{B}$ is called the beta function. \n",
        "\n",
        "Let's visualise the distribution.\n",
        "\n",
        "`````{admonition} Task\n",
        ":class: tip\n",
        "* Try making each parameter big or small while leaving the other at the same value.\n",
        "* Then try make them both big or small.\n",
        "`````"
      ]
    },
    {
      "cell_type": "code",
      "execution_count": 25,
      "metadata": {},
      "outputs": [
        {
          "data": {
            "image/png": "[encoded data removed]",
            "text/plain": [
              "<Figure size 500x300 with 1 Axes>"
            ]
          },
          "metadata": {
            "needs_background": "light"
          },
          "output_type": "display_data"
        }
      ],
      "source": [
        "def beta_vis(a, b, x_ticks=True):\n",
        "    \n",
        "    beta = dist.Beta(a, b)\n",
        "    \n",
        "    x_values = jnp.linspace(0, 1, 1000)\n",
        "\n",
        "    pmf_values = jnp.exp(beta.log_prob(x_values))\n",
        "\n",
        "    # Create a bar plot (PMF plot)\n",
        "    fig = plt.figure(dpi=100, figsize=(5, 3))\n",
        "    plt.plot(x_values, pmf_values, alpha=0.7, color='teal')\n",
        "    plt.xlabel('x')\n",
        "    plt.ylabel('p(X=x)')\n",
        "    plt.title(f'Beta Distribution (a={a}, b={b})')\n",
        "    if x_ticks:\n",
        "        plt.xticks(x_values)\n",
        "    plt.grid( linestyle='--', alpha=0.7)\n",
        "\n",
        "    plt.show()\n",
        "\n",
        "beta_vis(a=4.3, b=3.2, x_ticks=False)"
      ]
    },
    {
      "cell_type": "markdown",
      "metadata": {},
      "source": []
    },
    {
      "cell_type": "markdown",
      "metadata": {},
      "source": [
        "### The Gamma distribution\n",
        "\n",
        "The Gamma distribution is a continuous distribution with support in $\\mathbb{R}^+$.\n",
        "Its PDF has the form \n",
        "\n",
        "$$p(X=x) = \\mathcal{Gamma}(x; \\alpha, \\beta) = \\frac{ \\beta^{\\alpha}}{\\Gamma(\\alpha)} x^{\\alpha - 1} e^{-\\beta x},$$\n",
        "\n",
        "where $\\alpha>0$ is the shape parameter, which determines the shape of the distribution, and $\\beta>0$ is the scale parameter. \n"
      ]
    },
    {
      "cell_type": "code",
      "execution_count": 26,
      "metadata": {},
      "outputs": [
        {
          "data": {
            "image/png": "[encoded data removed]",
            "text/plain": [
              "<Figure size 500x300 with 1 Axes>"
            ]
          },
          "metadata": {
            "needs_background": "light"
          },
          "output_type": "display_data"
        }
      ],
      "source": [
        "def gamma_vis(a, b, x_ticks=True):\n",
        "    \n",
        "    gamma = dist.Gamma(a, b)\n",
        "    \n",
        "    x_values = jnp.linspace(0, 20, 1000)\n",
        "\n",
        "    pmf_values = jnp.exp(gamma.log_prob(x_values))\n",
        "\n",
        "    # Create a bar plot (PMF plot)\n",
        "    fig = plt.figure(dpi=100, figsize=(5, 3))\n",
        "    plt.plot(x_values, pmf_values, alpha=0.7, color='teal')\n",
        "    plt.xlabel('x')\n",
        "    plt.ylabel('p(X=x)')\n",
        "    plt.title(f'Gamma Distribution (a={a}, b={b})')\n",
        "    if x_ticks:\n",
        "        plt.xticks(x_values)\n",
        "    plt.grid( linestyle='--', alpha=0.7)\n",
        "\n",
        "    plt.show()\n",
        "\n",
        "gamma_vis(a=2, b=0.5, x_ticks=False)"
      ]
    },
    {
      "cell_type": "markdown",
      "metadata": {},
      "source": [
        "### The Uniform distribution\n",
        "\n",
        "Perhaps, the simplest, but still a very important distribution among continuous distributions is the uniform distribution. Under this distribution, all possible values are equally likely. The uniform distribution has the following form\n",
        "\n",
        "$$\n",
        "p(X = x) = \\mathrm{Uniform}(x\\mid a, b) = \\begin{cases}\n",
        "\\frac{1}{b - a}\\, & \\text{if } a \\le x \\le b \\\\\n",
        "0\\, & \\text{otherwise},\n",
        "\\end{cases}\n",
        "$$\n",
        "\n",
        "where $a$ and $b$ are the upper and lower bound parameters, respectively."
      ]
    },
    {
      "cell_type": "code",
      "execution_count": 27,
      "metadata": {},
      "outputs": [
        {
          "data": {
            "image/png": "[encoded data removed]",
            "text/plain": [
              "<Figure size 500x300 with 1 Axes>"
            ]
          },
          "metadata": {
            "needs_background": "light"
          },
          "output_type": "display_data"
        }
      ],
      "source": [
        "a = -1\n",
        "b = 3 \n",
        "x_ticks= False\n",
        "\n",
        "uniform = dist.Uniform(low=a, high=b)\n",
        "x_values = jnp.linspace(-5, 5, 1000)\n",
        "\n",
        "pmf_values = jnp.exp(uniform.log_prob(x_values))\n",
        "\n",
        "fig = plt.figure(dpi=100, figsize=(5, 3))\n",
        "plt.plot(x_values, pmf_values, alpha=0.7, color='teal')\n",
        "plt.xlabel('x')\n",
        "plt.ylabel('p(X=x)')\n",
        "plt.title(f'Uniform Distribution (a={a}, b={b})')\n",
        "if x_ticks:\n",
        "    plt.xticks(x_values)\n",
        "plt.grid(axis='y', linestyle='--', alpha=0.7)\n",
        "plt.grid(axis='x', linestyle='--', alpha=0.7)\n",
        "plt.xlim(-5, 5)\n",
        "\n",
        "plt.show()\n"
      ]
    },
    {
      "cell_type": "markdown",
      "metadata": {},
      "source": [
        "### The Normal distribution\n",
        "\n",
        "The normal – also known as *Gaussian* – distribution is one of the most common distributions for modeling *continuous* random variables, i.e., corresponding to events with an uncountable number of outcomes. Its probability density function is\n",
        "\n",
        "$$\n",
        "p(X = x) = \\mathcal{N}(x\\mid \\mu, \\sigma) = \\frac{1}{\\sqrt{2\\pi\\sigma^2}}\\exp\\left(-\\frac{(\\mu - x)^2}{2\\sigma^2}\\right),\n",
        "$$\n",
        "\n",
        "where $\\mu$ and $\\sigma$ are the *mean* and *standard deviation* (also called the location, and scale or square-root of the *variance* $\\sigma^2$, respectively).\n",
        "\n",
        "`````{admonition} Task\n",
        ":class: tip\n",
        "How do the mean and standard deviation affect the samples?\n",
        "`````"
      ]
    },
    {
      "cell_type": "code",
      "execution_count": 28,
      "metadata": {},
      "outputs": [
        {
          "data": {
            "image/png": "[encoded data removed]",
            "text/plain": [
              "<Figure size 500x300 with 1 Axes>"
            ]
          },
          "metadata": {
            "needs_background": "light"
          },
          "output_type": "display_data"
        }
      ],
      "source": [
        "mu = 0 \n",
        "sigma = 1 \n",
        "\n",
        "normal = dist.Normal(loc=mu, scale=sigma)\n",
        "samples = normal.sample(key=rng, sample_shape=(10000,))\n",
        "\n",
        "fig = plt.figure(dpi=100, figsize=(5, 3))\n",
        "ax = fig.add_subplot(1, 1, 1)\n",
        "ax.hist(samples, bins=50, density=True, alpha=0.5, color='teal')\n",
        "x = jnp.linspace(-10, 10, 3000)\n",
        "kde = gaussian_kde(samples)\n",
        "ax.plot(x, kde(x), lw=3, alpha=0.5, color= 'teal')\n",
        "ax.set_xlabel('x')\n",
        "ax.set_ylabel('p(X=x)')\n",
        "ax.set_xlim(-10, 10)\n",
        "ax.grid(0.3, linestyle='--', alpha=0.7)\n",
        "plt.show()"
      ]
    },
    {
      "cell_type": "markdown",
      "metadata": {},
      "source": [
        "Let us implement and test the normal PDF from scratch:"
      ]
    },
    {
      "cell_type": "code",
      "execution_count": 29,
      "metadata": {},
      "outputs": [],
      "source": [
        "def test_normal_pdf(pdf_fn):\n",
        "  assert pdf_fn(0, 1, 0) == jnp.exp(dist.Normal(loc=0, scale=1).log_prob(0)), \"Normal(X=0|0, 1) is incorrect.\"\n",
        "  assert pdf_fn(0, 2, 0) == jnp.exp(dist.Normal(loc=0, scale=2).log_prob(0)), \"Normal(X=0|0, 2) is incorrect.\"\n",
        "  assert pdf_fn(0, 1, 1) == jnp.exp(dist.Normal(loc=0, scale=1).log_prob(1)), \"Normal(X=0|1, 1) is incorrect.\"\n",
        "  assert pdf_fn(2, 3, 1) == jnp.exp(dist.Normal(loc=2, scale=3).log_prob(1)), \"Normal(X=1|2, 3) is incorrect.\"\n",
        "  print(\"Nice! Your answer looks correct.\")"
      ]
    },
    {
      "cell_type": "code",
      "execution_count": 30,
      "metadata": {},
      "outputs": [
        {
          "name": "stdout",
          "output_type": "stream",
          "text": [
            "Nice! Your answer looks correct.\n"
          ]
        }
      ],
      "source": [
        "def normal_pdf(loc, scale, x):\n",
        "    p_x = 1 / jnp.sqrt(2 * jnp.pi * scale**2)\n",
        "    p_x *= jnp.exp(-((loc - x)**2) / (2 * scale**2))\n",
        "\n",
        "    return p_x\n",
        "\n",
        "test_normal_pdf(normal_pdf)"
      ]
    },
    {
      "cell_type": "markdown",
      "metadata": {},
      "source": [
        "### The Multivariate Normal distribution\n",
        "\n",
        "```{margin}\n",
        "This distribution will be very useful in chapters where we will talk about Gaussian Processes and spatial modelling.\n",
        "```\n",
        "\n",
        "The *multivariate normal distribution* is a generalization of the *univariate normal distribution* to consider multiple random variables that have a <font color='orange'>jointly normal distribution</font>. In other words, it lets us model variables that are not independent – if we know the value of one variable, that tells us something about the other variables!\n",
        "More concretely, the multivariate normal distribution lets us consider multiple random variables such that when we condition on some of these variables the remaining variables have a normal distribution. These variables are distributed in a kind of stretched fuzzy ball in higher dimensional space.\n",
        "\n",
        "As a rule of thumb, the more one variable tells us about another, the larger the *covariance* or *correlation* between the two. \n",
        "\n",
        "We will be using the same notation for multivatiate and univariate normals $\\mathcal{N}$. Which one to use, should be clear from the context throughout this course.\n",
        "\n",
        "The PDF for an $D$-dimensional random variable $X$:\n",
        "\n",
        "$$\n",
        "p(X = x) = \\mathcal{N}(x\\mid \\mu, \\Sigma) = \\frac{1}{\\sqrt{(2\\pi)^D|\\Sigma|}}\\exp\\left(-\\frac{1}{2}(x - \\mu)^\\intercal\\Sigma^{-1}(x - \\mu)\\right),\n",
        "$$\n",
        "\n",
        "where $x$ and $\\mu$ are now vectors of numbers rather than single numbers, $\\Sigma$ is a <font color='orange'>covariance matrix</font> that replaces $\\sigma$ from our univariate definition above, and $|\\Sigma|$ is its determinant. The covariance matrix looks like this:\n",
        "\\begin{equation*}\n",
        "\\Sigma = \\begin{bmatrix}\\sigma_1^2 & \\rho_{12} \\sigma_1 \\sigma_2 & \\cdots &  \\rho_{1D} \\sigma_1 \\sigma_D  \\\\\n",
        "    \\rho_{21} \\sigma_2\\sigma_1 & \\sigma_2^2 & \\cdots &  \\rho_{2D} \\sigma_2 \\sigma_D \\\\\n",
        "    \\vdots & \\vdots & \\ddots & \\vdots \\\\\n",
        "    \\rho_{D1} \\sigma_D \\sigma_1 & \\rho_{D2} \\sigma_D \\sigma_2 & \\cdots & \\sigma_D^2 \\end{bmatrix}\n",
        "\\end{equation*}\n",
        "\n",
        "where $\\sigma_i^2$ is the variance for the $i$-th dimension, and $\\rho_{ij} = \\rho_{ji}$ is the *correlation* between the $i$-th and $j$-th dimensions. The covariance matrix tells us how the \"ball\" of random variables is stretched and rotated in space.\n",
        "\n",
        "`````{admonition} Task\n",
        ":class: tip\n",
        "Show that the equation above is equivalent to the univariate case when $D = 1$\n",
        "`````"
      ]
    },
    {
      "cell_type": "markdown",
      "metadata": {},
      "source": [
        "\n",
        "Now let's look at how the equation above simplifies in the two-dimensional case\n",
        "\n",
        "$$\n",
        "\\begin{align*}\n",
        "&p(X_1 = x_1, X_2 = x_2) = \\\\\n",
        "&\\mathcal{N}\\left( \\begin{bmatrix} x_1 \\\\ x_2 \\end{bmatrix} \\middle| \\begin{bmatrix} \\mu_1 \\\\ \\mu_2 \\end{bmatrix}, \\begin{bmatrix} \\sigma_1^2 & \\rho \\sigma_1 \\sigma_2 \\\\ \\rho \\sigma_1 \\sigma_2  &\\sigma_2^2 \\end{bmatrix}\\right)= \\\\\n",
        "&\\frac{1}{2\\pi\\sigma_1\\sigma_2\\sqrt{1 - \\rho^2}}\\exp\\left(-\\frac{1}{2(1 - \\rho^2)}\\left[\\left(\\frac{x_1 - \\mu_1}{\\sigma_1}\\right)^2 -2\\rho\\left(\\frac{x_1 - \\mu_1}{\\sigma_1}\\right)\\left(\\frac{x_2 - \\mu_2}{\\sigma_2}\\right)  + \\left(\\frac{x_2 - \\mu_2}{\\sigma_2}\\right)^2 \\right] \\right)\n",
        "\\end{align*}\n",
        "$$\n",
        "\n",
        "**Group task:** Try to understand what this equation means. Discuss the following questions with your neighbors. \n",
        "\n",
        "1. If $\\rho = 0$, how does this two-dimensional case relate to the one-dimensional case above?\n",
        "2. Now, think about what happens as $\\rho$ becomes larger? What if it becomes negative?\n",
        "\n",
        "We will come back to this distribution later in the course."
      ]
    },
    {
      "cell_type": "markdown",
      "metadata": {},
      "source": [
        "## Batch and event shapes\n",
        "\n",
        "All distributions in `numpyro` have an `event_shape` which describes how many dimensions the random variable is, e.g., for a 2-dimensional normal distribution this would be 2, and a `batch_shape` which describes how many sets of parameters the distribution has – it is probably easier to show what this means with the following examples rather than tell.\n",
        "\n",
        "Let's first look at a simple univariate normal $\\mathcal{N}(x|0, 1)$. We will evaluate the probabilities of $X = 1$ and $X = 2$:"
      ]
    },
    {
      "cell_type": "code",
      "execution_count": 31,
      "metadata": {},
      "outputs": [
        {
          "name": "stdout",
          "output_type": "stream",
          "text": [
            "event_shape = ()\n",
            "batch_shape = ()\n",
            "p(X = [1. 2.]) = [0.24197073 0.05399096]\n"
          ]
        }
      ],
      "source": [
        "values = jnp.array([1., 2.])\n",
        "normal = dist.Normal(0., 1.)\n",
        "print(f\"event_shape = {normal.event_shape}\")\n",
        "print(f\"batch_shape = {normal.batch_shape}\")\n",
        "print(f\"p(X = {values}) = {jnp.exp(normal.log_prob(values))}\")"
      ]
    },
    {
      "cell_type": "markdown",
      "metadata": {},
      "source": [
        "We see that this distribution has an empty event shape, which you can think of as being the same as an event shape of 1 (like how a scalar is the same as a vector of length 1). The batch shape is also empty, since we only specified one set of parameters ($\\mu = 0, \\sigma = 1$).  \n",
        "\n",
        "Now since we tried to evaluate the probability of two values at once, and neither the event shape nor the batch shape are 2, this is equivalent to calling `dist.log_prob(1.)` and `dist.log_prob(2.)` separately. `numpyro` is just making our lives easier by *broadcasting* the `log_prob` calculation to do both $p(X=1) = \\mathcal{N}(X=1|0, 1)$ and $p(X=2) = \\mathcal{N}(X=2|0, 1)$ at the same time.\n",
        "\n",
        "We could also specify a *batch* of two sets of parameters so that we are essentially working with $\\mathcal{N}(x|0, 1)$ and $\\mathcal{N}(x|1, 2)$ at the same time:"
      ]
    },
    {
      "cell_type": "code",
      "execution_count": 32,
      "metadata": {},
      "outputs": [
        {
          "name": "stdout",
          "output_type": "stream",
          "text": [
            "event_shape = ()\n",
            "batch_shape = (2,)\n"
          ]
        },
        {
          "name": "stdout",
          "output_type": "stream",
          "text": [
            "[p(X_1 = 1.0), p(X_2 = 2.0)] = [0.24197073 0.17603266]\n",
            "p(X_1 = 1.0, X_2 = 2.0) = 0.042594753205776215\n"
          ]
        }
      ],
      "source": [
        "batch_normal = dist.Normal(jnp.array([0., 1.]), jnp.array([1., 2.]))\n",
        "print(f\"event_shape = {batch_normal.event_shape}\")\n",
        "print(f\"batch_shape = {batch_normal.batch_shape}\")\n",
        "print(f\"[p(X_1 = {values[0]}), p(X_2 = {values[1]})] = {jnp.exp(batch_normal.log_prob(values))}\")\n",
        "print(f\"p(X_1 = {values[0]}, X_2 = {values[1]}) = {jnp.prod(jnp.exp(batch_normal.log_prob(values)))}\")"
      ]
    },
    {
      "cell_type": "markdown",
      "metadata": {},
      "source": [
        "Now, notice that while the event shape is empty (as expected since we are still working with a univariate normal), the batch size is 2!\n",
        "\n",
        "As a result, the calculation we are doing is equivalent to separately calculating $p(X_1=1) = \\mathcal{N}(X_1=1|0, 1)$ and $p(X_2=2) = \\mathcal{N}(X_2=2|1, 2)$! Again, this is just `numpyro` making our lives easier.\n",
        "\n",
        "If we want to calculate $p(X_1=1,X_2=2)$, i.e., the joint probability that $X_1 = 1$ and $X_2 = 2$, then we either need to manually multiply the probabilities (assuming that $X_1$ and $X_2$ are independent) – as we've in the cell above – or we need to work with a multivariate normal.\n",
        "\n",
        "Let's look at the case when the $X_1$ and $X_2$ are independent:"
      ]
    },
    {
      "cell_type": "code",
      "execution_count": 33,
      "metadata": {},
      "outputs": [
        {
          "name": "stdout",
          "output_type": "stream",
          "text": [
            "event_shape = (2,)\n",
            "batch_shape = ()\n",
            "p(X_1 = 1.0, X_2 = 2.0) = 0.055732980370521545\n"
          ]
        }
      ],
      "source": [
        "multivariate_full_normal = dist.MultivariateNormal(jnp.array([0., 1.]), jnp.array([[1., 1.], [1., 2.**2]]))\n",
        "print(f\"event_shape = {multivariate_full_normal.event_shape}\")\n",
        "print(f\"batch_shape = {multivariate_full_normal.batch_shape}\")\n",
        "print(f\"p(X_1 = {values[0]}, X_2 = {values[1]}) = {jnp.exp(multivariate_full_normal.log_prob(values))}\")"
      ]
    },
    {
      "cell_type": "markdown",
      "metadata": {},
      "source": [
        "This results in a slightly different value for the joint probability, but otherwise everything looks the same."
      ]
    },
    {
      "cell_type": "markdown",
      "metadata": {},
      "source": []
    }
  ],
  "metadata": {
    "colab": {
      "provenance": []
    },
    "kernelspec": {
      "display_name": "Python 3",
      "name": "python3"
    },
    "language_info": {
      "codemirror_mode": {
        "name": "ipython",
        "version": 3
      },
      "file_extension": ".py",
      "mimetype": "text/x-python",
      "name": "python",
      "nbconvert_exporter": "python",
      "pygments_lexer": "ipython3",
      "version": "3.9.18"
    }
  },
  "nbformat": 4,
  "nbformat_minor": 0
}

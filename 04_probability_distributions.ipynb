{
  "cells": [
    {
      "cell_type": "markdown",
      "metadata": {},
      "source": [
        "# Probability Dsitributions and Random Variables"
      ]
    },
    {
      "cell_type": "markdown",
      "metadata": {},
      "source": [
        "To embark on an exciting journey into the realm of probabilistic thinking and programming, it's essential to establish a solid foundation. This foundation entails gaining a comprehensive understanding of probability distributions, mastering fundamental probability principles, and acquiring the skills to manipulate probabilities within code.\n",
        "\n",
        "Probability distributions and random variables serve as tools for describing and performing calculations related to random events, specifically those whose outcomes are uncertain. An illustrative instance of such an uncertain event would be the act of flipping a coin or rolling a dice. In the former case, the potential outcomes are heads or tails.\n",
        "\n",
        "*In the context of epidemiological modelling, we will encounter data of different type and origin. It is crucial to grasp the suitability of different probability distributions for modeling specific types of data.*\n",
        "\n",
        "Since the PPL we will be using for this course is **Numpyro**, also in this section we will use the implementations of distribution from this library `import numpyro.distributions as dist`"
      ]
    },
    {
      "cell_type": "code",
      "execution_count": null,
      "metadata": {},
      "outputs": [],
      "source": [
        "# uncomment this line on Colab\n",
        "# !pip install numpyro"
      ]
    },
    {
      "cell_type": "code",
      "execution_count": 29,
      "metadata": {},
      "outputs": [],
      "source": [
        "import jax\n",
        "import jax.numpy as jnp\n",
        "\n",
        "# dsitributions\n",
        "import numpyro.distributions as dist\n",
        "\n",
        "import matplotlib.pyplot as plt\n",
        "\n",
        "# Since we are using jax, we will need a random key:\n",
        "rng = jax.random.PRNGKey(42)"
      ]
    },
    {
      "cell_type": "markdown",
      "metadata": {},
      "source": [
        "## Discrete Distributions"
      ]
    },
    {
      "cell_type": "markdown",
      "metadata": {},
      "source": [
        "### The Bernoulli distribution\n",
        "\n",
        "A Bernoulli distribution is used to describe random events with two possible outcomes e.g. when we have a random variable $X$ that takes on one of the two values $x \\in \\{0, 1\\}$ with probabilities $1-p$ and $p, 0 \\le p \\le 1$ respectively:\n",
        "\n",
        "\\begin{align*}\n",
        "p(X = 1) &= p, \\\\\n",
        "p(X = 0) &= 1 - p.\n",
        "\\end{align*}\n",
        "\n",
        "Here $p$ is the probability of the 'positive' outcome. For example, in the case of a *fair* coin toss, $p = 0.5$ so that both outcomes have a 50\\% chance of occurring. As we will see shortly, most distributions have multiple parameters.\n",
        "\n",
        "#### Probability mass function\n",
        "A *discrete* probability distribution can be uniquely defined by its *probability mass function (PMF)*.\n",
        "\n",
        "```{margin}\n",
        "The term 'mass' is used to underline that the support of the distribution is discrete, and each possible values carries a certain `mass` (probability).\n",
        "For continuous distributions, the analogous is *probability density function (PDF)*, we will see those later.\n",
        "```\n",
        "For the Bernoulli distribution, we write the PMF as\n",
        "\n",
        "\\begin{align}\n",
        "p(X = x) = \\text{Bernoulli}(X\\mid p) &= \\begin{cases}\n",
        "p\\, & \\text{if } x = 1 \\\\\n",
        "1 - p\\, & \\text{if } x = 0\n",
        "\\end{cases} \\\\\n",
        "&= p^x(1-p)^{1-x}.\n",
        "\\end{align}\n",
        "\n",
        "**Exercise:** convince yourself that the two definitions of the Bernoulli distribution shown above are equivalent.\n",
        "\n",
        "Now let's construct a Bernoulli distribution in code so that we can play around with it and get some intuition.\n",
        "\n",
        "**Note:** In this practical, we are going to use `numpyro` to construct our distributions. However, there are several other `jax` packages that work similarly (e.g., `distrax`) as well as several options for `tensorflow` (e.g., `tensorflow_probability`) and `pytorch` (e.g., `torch.distribution`). Don't worry too much about the specifics of how `numpyro` works, e.g., the names of the distributions and their arguments. Instead try to understand what the code is doing."
      ]
    },
    {
      "cell_type": "markdown",
      "metadata": {},
      "source": [
        "We construct the distribution with a certain value of the parameter `p`:"
      ]
    },
    {
      "cell_type": "code",
      "execution_count": 10,
      "metadata": {},
      "outputs": [],
      "source": [
        "p = jnp.array(0.5)\n",
        "bernoulli = dist.Bernoulli(probs=p)"
      ]
    },
    {
      "cell_type": "markdown",
      "metadata": {},
      "source": [
        "Now that we have constructed the distribution we can get a *sample* from it:\n",
        "\n",
        "```{margin}\n",
        "We can think of a sample as a realisation of the random variable. \n",
        "```"
      ]
    },
    {
      "cell_type": "code",
      "execution_count": 15,
      "metadata": {},
      "outputs": [
        {
          "name": "stdout",
          "output_type": "stream",
          "text": [
            "1\n"
          ]
        }
      ],
      "source": [
        "sample = bernoulli.sample(key=rng)\n",
        "print(sample)"
      ]
    },
    {
      "cell_type": "markdown",
      "metadata": {},
      "source": [
        "And we can evaluate the probability of observing a sample.\n",
        "\n",
        "**Note:** the distribution objects in `numpyro` (and indeed most other libraries for probability distributions) return *log*-probabilities rather than raw probabilities. This means that we need to take the exponent if we want to know the probability."
      ]
    },
    {
      "cell_type": "code",
      "execution_count": 16,
      "metadata": {},
      "outputs": [
        {
          "name": "stdout",
          "output_type": "stream",
          "text": [
            "log p(X = 1) = -0.6931471824645996\n",
            "p(X = 1) = 0.5\n"
          ]
        }
      ],
      "source": [
        "log_prob = bernoulli.log_prob(sample)\n",
        "print(f\"log p(X = {sample}) = {log_prob}\")\n",
        "print(f\"p(X = {sample}) = {jnp.exp(log_prob)}\")"
      ]
    },
    {
      "cell_type": "markdown",
      "metadata": {},
      "source": [
        "As expected, we get a probability of 0.5."
      ]
    },
    {
      "cell_type": "markdown",
      "metadata": {},
      "source": [
        "#### Multiple samples\n",
        "\n",
        "We can also easily get multiple samples:\n",
        "\n",
        "```{margin}\n",
        "Multiple samples are different realisations of the *same* random variable.\n",
        "```"
      ]
    },
    {
      "cell_type": "code",
      "execution_count": 22,
      "metadata": {},
      "outputs": [
        {
          "name": "stdout",
          "output_type": "stream",
          "text": [
            "[0 0 1 1 0 1 1]\n"
          ]
        }
      ],
      "source": [
        "n = 7\n",
        "samples = bernoulli.sample(key=rng, sample_shape=(n,))\n",
        "print(samples)"
      ]
    },
    {
      "cell_type": "markdown",
      "metadata": {},
      "source": [
        "What if we wanted to evaluate the probability of observing all of our samples?\n",
        "\n",
        "The `bernoulli` object we created earlier treats each sample individually and returns the probabilities of observing each sample on its own:"
      ]
    },
    {
      "cell_type": "code",
      "execution_count": 26,
      "metadata": {},
      "outputs": [
        {
          "name": "stdout",
          "output_type": "stream",
          "text": [
            "[0.5 0.5 0.5 0.5 0.5 0.5 0.5]\n"
          ]
        }
      ],
      "source": [
        "individual_sample_probs = jnp.exp(bernoulli.log_prob(samples))\n",
        "print(individual_sample_probs)"
      ]
    },
    {
      "cell_type": "markdown",
      "metadata": {},
      "source": [
        "But, we can use one of the laws of probability to compute the probability of observing all of the samples together:\n",
        "$$\n",
        "p(X_1=x_1, X_2=x_2, \\dots, X_N=x_n) = \\prod_{n=1}^N p(X_n=x_n).\n",
        "$$\n",
        "This is called the *product rule of probability*, and it says that for *independent* random variables, the joint probability (i.e., the probability of observing them all together) is equal to the product of the individual probabilities.\n",
        "\n",
        "Now, let's calculate the joint probability of our samples.\n",
        "\n",
        "```{margin}\n",
        "Working with log-probabilities is preferable due to numerical stability, computational efficiency, and ease of handling multiplicative operations.\n",
        "```"
      ]
    },
    {
      "cell_type": "code",
      "execution_count": 27,
      "metadata": {},
      "outputs": [
        {
          "name": "stdout",
          "output_type": "stream",
          "text": [
            "0.0078125\n"
          ]
        }
      ],
      "source": [
        "joint_prob = jnp.prod(individual_sample_probs)\n",
        "print(joint_prob)"
      ]
    },
    {
      "cell_type": "code",
      "execution_count": 30,
      "metadata": {},
      "outputs": [],
      "source": [
        "def Bernouilli_vis(rng, p, n):\n",
        "\n",
        "    # define distribution\n",
        "    bernoulli_ = dist.Bernoulli(probs=p)\n",
        "\n",
        "    # collect samples\n",
        "    samples = bernoulli_.sample(key=rng, sample_shape=(n,))\n",
        "\n",
        "    # how many ones\n",
        "    num_ones = (samples == 1.).sum()\n",
        "\n",
        "    # how many zeros\n",
        "    num_zeros = (samples == 0.).sum()\n",
        "\n",
        "    # plot\n",
        "    fig = plt.figure(dpi=100, figsize=(5, 3))\n",
        "    ax = fig.add_subplot(1, 1, 1)\n",
        "    ax.bar([0, 1], [num_zeros/n, num_ones/n])\n",
        "    ax.set_xticks([0, 1])\n",
        "    ax.set_xlabel('x')\n",
        "    ax.set_ylabel('p(X=x)')\n",
        "    plt.show()\n",
        "\n"
      ]
    },
    {
      "cell_type": "code",
      "execution_count": 31,
      "metadata": {},
      "outputs": [
        {
          "data": {
            "image/png": "[encoded data removed]",
            "text/plain": [
              "<Figure size 500x300 with 1 Axes>"
            ]
          },
          "metadata": {},
          "output_type": "display_data"
        }
      ],
      "source": [
        "p = 0.2\n",
        "n = 100\n",
        "Bernouilli_vis(rng, p, n)"
      ]
    },
    {
      "cell_type": "markdown",
      "metadata": {},
      "source": [
        "**Exercise:**  plot a panel of histograms where you vary probability $p$ horizontally and numher of samples $n$ vertically. "
      ]
    },
    {
      "cell_type": "markdown",
      "metadata": {},
      "source": [
        "### The Binomial distribution"
      ]
    },
    {
      "cell_type": "markdown",
      "metadata": {},
      "source": [
        "### The Categorical distribution"
      ]
    },
    {
      "cell_type": "markdown",
      "metadata": {},
      "source": [
        "### The Ordered distribution"
      ]
    },
    {
      "cell_type": "markdown",
      "metadata": {},
      "source": [
        "## Continuous Distributions\n",
        "\n",
        "### Beta distribution\n",
        "\n",
        "### Gamma distribution\n",
        "\n",
        "### Normal distribution\n",
        "\n",
        "### Multivariate Normal distribution"
      ]
    },
    {
      "cell_type": "markdown",
      "metadata": {},
      "source": []
    }
  ],
  "metadata": {
    "colab": {
      "provenance": []
    },
    "kernelspec": {
      "display_name": "Python 3",
      "name": "python3"
    },
    "language_info": {
      "codemirror_mode": {
        "name": "ipython",
        "version": 3
      },
      "file_extension": ".py",
      "mimetype": "text/x-python",
      "name": "python",
      "nbconvert_exporter": "python",
      "pygments_lexer": "ipython3",
      "version": "3.9.7"
    }
  },
  "nbformat": 4,
  "nbformat_minor": 0
}

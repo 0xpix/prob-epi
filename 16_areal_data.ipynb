{
  "cells": [
    {
      "cell_type": "markdown",
      "metadata": {},
      "source": [
        "# Areal data modelling\n",
        "\n",
        "## Areal data\n",
        "\n",
        "In spatial statistics, areal data refers to data that are aggregated or summarized within predefined geographic areas or regions, such as census tracts, zip code areas, counties, or administrative districts. Unlike point-referenced data, which represent individual locations with specific coordinates, areal data are associated with spatial units that cover an area on the map.\n",
        "\n",
        "Examples of areal data include:\n",
        "\n",
        "- Population counts: Total population counts within census tracts or administrative districts.\n",
        "- Income levels: Median household income or per capita income within counties or zip code areas.\n",
        "- Disease rates: Incidence or prevalence rates of diseases within specific regions.\n",
        "- Crime rates: Number of reported crimes per capita within police precincts or neighborhoods.\n",
        "- Environmental variables: Average temperature, precipitation, or air quality indices within specific geographic regions.\n",
        "- Socioeconomic indicators: Education attainment levels, unemployment rates, poverty rates, etc., within administrative boundaries.\n",
        "\n",
        "Areal data are commonly used in spatial statistics since this is often the level at which data are available, and, at the same time, modelling at areal level is useful since this is the level at which public policy decisions are typically made."
      ]
    },
    {
      "cell_type": "code",
      "execution_count": 3,
      "metadata": {},
      "outputs": [],
      "source": [
        "#!pip install geopandas\n",
        "\n",
        "import geopandas as gpd\n",
        "import matplotlib.pyplot as plt\n",
        "from matplotlib.colors import Normalize\n",
        "from matplotlib.cm import ScalarMappable\n",
        "from shapely.geometry import Polygon\n",
        "\n",
        "import numpy as np\n",
        "\n",
        "import networkx as nx\n",
        "\n",
        "import jax\n"
      ]
    },
    {
      "cell_type": "markdown",
      "metadata": {},
      "source": [
        "## Geopandas\n",
        "\n",
        "Before we start looking at statististical models of areal data, let us get familiar with the `geopandas` package.\n",
        "\n",
        "`geopandas` is a Python library that provides convenient, unified access to the functionalities of the `pandas` library and additional spatial data manipulation tools. It is built upon the capabilities of pandas, allowing for easy manipulation, analysis, and visualization of geospatial data.\n",
        "\n",
        "Here's a brief tutorial to get you started with GeoPandas:\n",
        "\n",
        "1. Installation\n",
        "\n",
        "    First, you need to install GeoPandas along with its dependencies. You can install GeoPandas using pip, a Python package manager, by executing the following command in your terminal or command prompt:\n",
        "\n",
        "    `!pip install geopandas`"
      ]
    },
    {
      "cell_type": "markdown",
      "metadata": {},
      "source": [
        "2. Importing\n",
        "\n",
        "    Once GeoPandas is installed, you can import it in your Python script or Jupyter Notebook:\n",
        "\n",
        "    `import geopandas as gpd`"
      ]
    },
    {
      "cell_type": "markdown",
      "metadata": {},
      "source": [
        "3. Reading Spatial Data\n",
        "\n",
        "    GeoPandas can read various spatial data formats such as shapefiles, GeoJSON, and GeoPackage. You can read spatial data using the read_file() function:"
      ]
    },
    {
      "cell_type": "code",
      "execution_count": null,
      "metadata": {},
      "outputs": [],
      "source": [
        "# Reading a shapefile\n",
        "#gdf = gpd.read_file('data/zaf.geojson')\n",
        "gdf = gpd.read_file('data/wards_UK.geojson')\n"
      ]
    },
    {
      "cell_type": "markdown",
      "metadata": {},
      "source": [
        "4. Exploring Data\n",
        "\n",
        "    GeoPandas extends the capabilities of pandas DataFrames to work with spatial data. You can use familiar pandas methods to explore and manipulate GeoDataFrames:"
      ]
    },
    {
      "cell_type": "code",
      "execution_count": null,
      "metadata": {},
      "outputs": [],
      "source": [
        "gdf.head()"
      ]
    },
    {
      "cell_type": "code",
      "execution_count": null,
      "metadata": {},
      "outputs": [],
      "source": [
        "# Displaying the first few rows of the GeoDataFrame\n",
        "print(gdf.head())\n",
        "\n",
        "# Summary statistics\n",
        "print(gdf.describe())\n",
        "\n",
        "# Checking column names\n",
        "print(gdf.columns)\n",
        "\n",
        "# Plotting the GeoDataFrame\n",
        "gdf.plot()\n"
      ]
    },
    {
      "cell_type": "markdown",
      "metadata": {},
      "source": [
        "5. Spatial Operations\n",
        "\n",
        "    GeoPandas allows you to perform spatial operations such as overlay, buffer, and spatial joins:"
      ]
    },
    {
      "cell_type": "code",
      "execution_count": null,
      "metadata": {},
      "outputs": [
        {
          "ename": "",
          "evalue": "",
          "output_type": "error",
          "traceback": [
            "\u001b[1;31mThe Kernel crashed while executing code in the current cell or a previous cell. \n",
            "\u001b[1;31mPlease review the code in the cell(s) to identify a possible cause of the failure. \n",
            "\u001b[1;31mClick <a href='https://aka.ms/vscodeJupyterKernelCrash'>here</a> for more info. \n",
            "\u001b[1;31mView Jupyter <a href='command:jupyter.viewOutput'>log</a> for further details."
          ]
        }
      ],
      "source": [
        "# Performing a spatial join\n",
        "result = gpd.sjoin(gdf1, gdf2, how='inner', op='intersects')\n",
        "\n",
        "# Buffering geometries\n",
        "buffered = gdf.buffer(distance=1000)  # Buffer by 1000 units\n",
        "\n",
        "# Overlaying geometries\n",
        "intersection = gpd.overlay(gdf1, gdf2, how='intersection')\n"
      ]
    },
    {
      "cell_type": "markdown",
      "metadata": {},
      "source": [
        "6. Plotting\n",
        "\n",
        "    GeoPandas provides easy-to-use plotting functions to visualize spatial data:"
      ]
    },
    {
      "cell_type": "code",
      "execution_count": null,
      "metadata": {},
      "outputs": [],
      "source": [
        "# Plotting a GeoDataFrame\n",
        "gdf.plot()\n",
        "\n",
        "# Customizing the plot\n",
        "ax = gdf.plot(color='blue', edgecolor='black')\n"
      ]
    },
    {
      "cell_type": "markdown",
      "metadata": {},
      "source": [
        "7. Saving Data\n",
        "\n",
        "    You can save GeoDataFrames to various spatial data formats using the to_file() method:"
      ]
    },
    {
      "cell_type": "code",
      "execution_count": null,
      "metadata": {},
      "outputs": [],
      "source": [
        "# Saving GeoDataFrame to a shapefile\n",
        "gdf.to_file('path/to/output.shp')\n"
      ]
    },
    {
      "cell_type": "markdown",
      "metadata": {},
      "source": []
    },
    {
      "cell_type": "markdown",
      "metadata": {},
      "source": []
    },
    {
      "cell_type": "markdown",
      "metadata": {},
      "source": []
    },
    {
      "cell_type": "code",
      "execution_count": null,
      "metadata": {},
      "outputs": [],
      "source": []
    },
    {
      "cell_type": "code",
      "execution_count": 4,
      "metadata": {},
      "outputs": [],
      "source": [
        "# Specify the path to your GeoJSON file\n",
        "geojson_path = 'data/zaf.geojson'\n",
        "\n",
        "# Read the GeoJSON file using GeoPandas\n",
        "gdf = gpd.read_file(geojson_path)"
      ]
    },
    {
      "cell_type": "code",
      "execution_count": null,
      "metadata": {},
      "outputs": [],
      "source": [
        "gfd"
      ]
    },
    {
      "cell_type": "code",
      "execution_count": 15,
      "metadata": {},
      "outputs": [
        {
          "data": {
            "image/png": "[encoded data removed]",
            "text/plain": [
              "<Figure size 576x360 with 2 Axes>"
            ]
          },
          "metadata": {
            "needs_background": "light"
          },
          "output_type": "display_data"
        }
      ],
      "source": [
        "# Create a GeoDataFrame with administrative boundaries (made-up data for illustration)\n",
        "data = {'geometry': [Polygon([(0, 0), (0, 2), (2, 2), (2, 0)]),  # Polygon 1\n",
        "                     Polygon([(2, 0), (2, 2), (4, 2), (4, 0)]),  # Polygon 2\n",
        "                     Polygon([(0, 2), (1, 4), (3, 4), (3, 2)]),  # Polygon 3\n",
        "                     Polygon([(3, 2), (3, 6), (6, 4), (5, 2)]),  # Polygon 4\n",
        "                     Polygon([(4, 0), (4, 2), (6, 2), (6, 0)]),  # Polygon 5\n",
        "                     Polygon([(4, 2), (4, 4), (6, 4), (6, 2)])],  # Polygon 6\n",
        "        'Name': ['Admin District 1', 'Admin District 2', 'Admin District 3',\n",
        "                 'Admin District 4', 'Admin District 5', 'Admin District 6'],  # Names of admin districts\n",
        "        'Population': [5000, 7000, 4000, 8000, 6000, 3000]}  # Population counts for each admin district\n",
        "\n",
        "gdf_admin = gpd.GeoDataFrame(data)\n",
        "\n",
        "# Plot the administrative boundaries with population size represented by color\n",
        "fig, ax = plt.subplots(figsize=(8, 5))\n",
        "\n",
        "# Define colormap\n",
        "cmap = plt.cm.viridis  # Change the colormap here\n",
        "norm = Normalize(vmin=gdf_admin['Population'].min(), vmax=gdf_admin['Population'].max())\n",
        "sm = ScalarMappable(norm=norm, cmap=cmap)\n",
        "\n",
        "# Plot each administrative boundary with color based on population size\n",
        "for idx, row in gdf_admin.iterrows():\n",
        "    color = sm.to_rgba(row['Population'])\n",
        "    gdf_admin.iloc[[idx]].plot(ax=ax, color=color, edgecolor='black')\n",
        "\n",
        "# Add colorbar with a shorter length\n",
        "cbar = plt.colorbar(sm, shrink=0.5)  # Adjust the shrink parameter to change the length of the color bar\n",
        "cbar.set_label('Population Size')\n",
        "\n",
        "plt.xlabel('Longitude')\n",
        "plt.ylabel('Latitude')\n",
        "plt.title('Example of areal data')\n",
        "plt.grid(True)\n",
        "plt.tight_layout()\n",
        "plt.show()\n"
      ]
    },
    {
      "cell_type": "markdown",
      "metadata": {},
      "source": [
        "## Adjancency structure\n",
        "\n",
        "Most models of areal data rely on the concept of adjacency matrix, i.e. a matrix $A = (a_{ij})$ with entries\n",
        "\n",
        "$$\n",
        "a_{ij} = \\begin{cases}\n",
        "\t\t\t1, & \\text{if areas } B_i \\text{ and } B_j \\text{ are neighbours},\\\\\n",
        "            0, & \\text{otherwise}.\n",
        "\t\t \\end{cases}\n",
        "$$\n",
        "\n",
        "The adjacency matrix must be symmetric: \n",
        "\n",
        "$$\n",
        "A = \\begin{pmatrix}\n",
        "a_{11} & a_{12} & \\cdots & a_{1n} \\\\\n",
        "a_{12} & a_{22} & \\cdots & a_{2n} \\\\\n",
        "\\vdots & \\vdots & \\ddots & \\vdots \\\\\n",
        "a_{1n} & a_{2n} & \\cdots & a_{nn}\n",
        "\\end{pmatrix}\n",
        "$$\n",
        "\n"
      ]
    },
    {
      "cell_type": "markdown",
      "metadata": {},
      "source": [
        "Let us compute adjacency matrix for this data."
      ]
    },
    {
      "cell_type": "code",
      "execution_count": 28,
      "metadata": {},
      "outputs": [
        {
          "data": {
            "image/png": "[encoded data removed]",
            "text/plain": [
              "<Figure size 432x288 with 1 Axes>"
            ]
          },
          "metadata": {
            "needs_background": "light"
          },
          "output_type": "display_data"
        }
      ],
      "source": [
        "def compute_adjacency_matrix(gdf):\n",
        "    num_geometries = len(gdf)\n",
        "    adjacency_matrix = np.zeros((num_geometries, num_geometries), dtype=int)\n",
        "    \n",
        "    for idx1, geometry1 in enumerate(gdf.geometry):\n",
        "        for idx2, geometry2 in enumerate(gdf.geometry):\n",
        "            if idx1 != idx2:\n",
        "                if geometry1.touches(geometry2):  # Check if geometries share a common boundary\n",
        "                    adjacency_matrix[idx1, idx2] = 1\n",
        "    \n",
        "    return adjacency_matrix\n",
        "\n",
        "def visualize_adjacency_matrix(matrix):\n",
        "    plt.figure(figsize=(6, 4))\n",
        "    plt.imshow(matrix, cmap='binary', origin='lower')\n",
        "    plt.title('Adjacency Matrix')\n",
        "    plt.xlabel('Geometry Index')\n",
        "    plt.ylabel('Geometry Index')\n",
        "    plt.grid(False)\n",
        "    plt.show()\n",
        "\n",
        "# Compute adjacency matrix\n",
        "adjacency_matrix = compute_adjacency_matrix(gdf_admin)\n",
        "\n",
        "# Visualize the adjacency matrix\n",
        "visualize_adjacency_matrix(adjacency_matrix)"
      ]
    },
    {
      "cell_type": "markdown",
      "metadata": {},
      "source": [
        "To understand adjacency, we can think about areal data as graphs with binary edges. Here each area represents a vertex in a graph, and an edge exists between vertices $i$ and $j$ if areas $B_i$ and $B_j$ share a border."
      ]
    },
    {
      "cell_type": "code",
      "execution_count": 29,
      "metadata": {},
      "outputs": [
        {
          "data": {
            "image/png": "[encoded data removed]",
            "text/plain": [
              "<Figure size 432x288 with 1 Axes>"
            ]
          },
          "metadata": {},
          "output_type": "display_data"
        }
      ],
      "source": [
        "# Create a graph\n",
        "nx_graph = nx.Graph()\n",
        "\n",
        "# Add nodes with their coordinates and area names\n",
        "for idx, geometry in enumerate(gdf_admin.geometry):\n",
        "    centroid = geometry.centroid\n",
        "    #area_name = gdf.loc[idx, 'area_name']\n",
        "    #nx_graph.add_node(idx, pos=(centroid.x, centroid.y), label=area_name)\n",
        "    nx_graph.add_node(idx, pos=(centroid.x, centroid.y))\n",
        "\n",
        "# Add edges based on adjacency\n",
        "for i, j in zip(*np.where(adjacency_matrix == 1)):\n",
        "    nx_graph.add_edge(i, j)\n",
        "\n",
        "# Visualize the graph with nodes aligned with actual locations and labeled with area names\n",
        "pos = nx.get_node_attributes(nx_graph, 'pos')\n",
        "\n",
        "nx.draw(nx_graph, pos, with_labels=True, node_size=300, node_color=\"skyblue\", font_size=8, font_color=\"black\")\n",
        "plt.title('Adjacency Graph')\n",
        "plt.show()"
      ]
    },
    {
      "cell_type": "markdown",
      "metadata": {},
      "source": [
        "## Models of areal data\n",
        "\n",
        "In models for areal data, the geographic units are denoted by $B_i$, and the data are typically sums or averages of variables over these blocks. To introduce spatial association, we define a neighborhood structure based on the arrangement of the blocks in the map. Once the neighborhood structure is defined, one can construct models models resembling autoregressive time series models, such as the intrinsic conditionally autoregressive model (ICAR, also called Besag) and conditionally autoregressive model (CAR).\n",
        "\n",
        "### The Besag, or ICAR, model\n",
        "\n",
        "```{margins}\n",
        "Some literature deciphers 'I' in 'ICAR' as 'intrinsic', and some other as 'improper'.\n",
        "```\n",
        "The Besag, or ICAR (Intrinsic Conditional Autoregressive) model is used to account for spatial dependencies or autocorrelation in the data, where observations in close proximity tend to be more similar than those farther apart. The ICAR model is a type of conditional autoregressive model that assumes that the value of a location in a spatial dataset depends on the values of its neighboring locations.\n",
        "\n",
        "Here are the key components of the ICAR model:\n",
        "\n",
        "- Neighborhood Structure: The ICAR model requires a predefined neighborhood structure. This structure specifies which locations are considered neighbors of each other. Common choices include defining neighbors based on contiguity, distance thresholds, or some other criteria.\n",
        "\n",
        "- Conditional Autoregressive Structure: In the ICAR model, each location's value is assumed to be conditionally dependent on the values of its neighbors. This conditional dependency is often modeled as a weighted sum of the neighboring values, where the weights are determined by the neighborhood structure. The weights are typically constrained such that they sum to zero, ensuring stationarity of the model.\n",
        "\n",
        "- Intrinsic Condition: The \"intrinsic\" part of the ICAR model refers to the fact that the sum of the weights for each location is constrained to be zero. This constraint helps ensure identifiability of the model parameters.\n",
        "\n",
        "The ICAR model is useful in various spatial applications, such as spatial interpolation, spatial smoothing, and spatial prediction. It is commonly employed in Bayesian spatial modeling, where prior distributions are assigned to the model parameters, and the posterior distribution is obtained through Bayesian inference methods like Markov Chain Monte Carlo (MCMC) sampling.\n",
        "\n",
        "\n",
        "The Besag model, also called improper conditionally autoregressive model (ICAR) computes the conditional mean of the random effect $f_i$ as an average of its neighbours $\\{f_j \\}_{j\\sim i}$ and its precision is proportional to the number of neighbours. It describes the vector of spatially varying random effects $f = (f_1, ..., f_n)^T$ using the prior\n",
        "\n",
        "$$\n",
        "f \\sim \\mathcal{N}(0, Q^-).\n",
        "$$\n",
        "\n",
        "Here $Q^-$ denotes the generalised inverse of matrix $Q$, which, in turn, is computed as \n",
        "\n",
        "$$\n",
        "Q = \\tau R, \\\\\n",
        "R = D - A.\n",
        "$$\n",
        "\n",
        "Here $D$ is a diagnoal matrix. It's $i$-th element equals the total number of neighbours of area $i$. Hence, $D$ can be computed from $A$:\n",
        "\n",
        "$$\n",
        "D = \\begin{pmatrix}\n",
        "\\sum_{j=1}^n  a_{1j} & 0 & \\cdots & 0 \\\\\n",
        "0 & \\sum_{j=1}^n a_{2j} & \\cdots & 0 \\\\\n",
        "\\vdots & \\vdots & \\ddots & \\vdots \\\\\n",
        "0 & 0 & \\cdots & \\sum_{j=1}^n a_{nj}\n",
        "\\end{pmatrix}.\n",
        "$$\n",
        "\n",
        "Note that  the structure matrix here can be viewed as graph Laplacian.\n",
        "\n",
        "$R$ is a rank-defficient matrix. It is recommended, for example, to place an adidtional constraint, such sum-to-zero constraint on each non-singleton connected component:\n",
        "\n",
        "$$\n",
        "\\sum_i f_i = 0.\n",
        "$$\n",
        "\n",
        "\n",
        "\n",
        "### Conditional Autoregressive Models (CAR)\n",
        "\n",
        "Conditional Autoregressive Models (CAR): same as ICAR, the CAR model assumes that the value of a variable in one area depends on the values of neighboring areas, with weights specified by a spatial adjacency matrix. However, it introcues an additional parameter $\\alpha$, allowing to estimate the amount of spatial correlation.\n",
        "\n",
        "The psatial random effect now is modelled as\n",
        "\n",
        "$$f \\sim \\mathcal{N}(0, Q^{-1}) $$\n",
        "\n",
        "with \n",
        "\n",
        "$$\n",
        "Q = \\tau R, \\\\\n",
        "R = D - \\alpha A, \\\\\n",
        "0 \\le \\alpha < 1.\n",
        "$$\n",
        "\n",
        "If $\\alpha=0$, the model consist only of i.i.d. random effects, and if $\\alpha$ is close to 1, the model approaches ICAR.\n",
        " \n",
        "### The Besag-Yorg-Mollié model\n",
        "\n",
        "The Besag, York, and Mollié (BYM) decomposes the spatial random effect $f$ into the sum of an i.i.d. component $v$ and spatiallly structured component $w$. Each of these two components has its own precision parameter:\n",
        "\n",
        "$$\n",
        "f \\sim \\mathcal{N}(0, \\tau_v^{-1}I + \\tau_w^{-1}R^-).\n",
        "$$\n",
        "\n",
        "This model provides more flexibility than the CAR formulation. \n",
        "\n"
      ]
    },
    {
      "cell_type": "markdown",
      "metadata": {},
      "source": [
        "##"
      ]
    },
    {
      "cell_type": "code",
      "execution_count": null,
      "metadata": {},
      "outputs": [],
      "source": []
    },
    {
      "cell_type": "markdown",
      "metadata": {},
      "source": [
        "## Examples\n",
        "\n",
        "take data from here: https://hughst.github.io/week-7/"
      ]
    },
    {
      "cell_type": "code",
      "execution_count": null,
      "metadata": {},
      "outputs": [],
      "source": []
    },
    {
      "cell_type": "markdown",
      "metadata": {},
      "source": []
    }
  ],
  "metadata": {
    "colab": {
      "provenance": []
    },
    "kernelspec": {
      "display_name": "Python 3",
      "name": "python3"
    },
    "language_info": {
      "codemirror_mode": {
        "name": "ipython",
        "version": 3
      },
      "file_extension": ".py",
      "mimetype": "text/x-python",
      "name": "python",
      "nbconvert_exporter": "python",
      "pygments_lexer": "ipython3",
      "version": "3.9.18"
    }
  },
  "nbformat": 4,
  "nbformat_minor": 0
}
